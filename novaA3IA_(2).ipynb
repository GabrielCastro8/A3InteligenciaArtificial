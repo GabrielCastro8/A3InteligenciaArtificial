{
  "nbformat": 4,
  "nbformat_minor": 0,
  "metadata": {
    "colab": {
      "provenance": []
    },
    "kernelspec": {
      "name": "python3",
      "display_name": "Python 3"
    },
    "language_info": {
      "name": "python"
    }
  },
  "cells": [
    {
      "cell_type": "markdown",
      "source": [
        "##Precos de notebook"
      ],
      "metadata": {
        "id": "In75vkuyG3jg"
      }
    },
    {
      "cell_type": "markdown",
      "source": [
        "Trabalho A3 Inteligencia artifical<br>\n"
      ],
      "metadata": {
        "id": "3Cbg1L8UVno8"
      }
    },
    {
      "cell_type": "markdown",
      "source": [
        "Gabriel Antonio Lopes de Castro - 1272023100\n"
      ],
      "metadata": {
        "id": "tEhgdYxzCzCQ"
      }
    },
    {
      "cell_type": "markdown",
      "source": [
        "Os dados sao de uma base de datos sobre o preco e outras informacoes sobre alguns modelos de notebooks.<br><br>\n",
        "Possuindo informacoes sobre:<br><br>\n",
        "brand; model; processor_brand; processor_name; processor_gnrtn; ram_gb; ram_type; ssd; hdd; os; os_bit; graphic_card_gb; weight; display_size; warranty; Touchscreen; msoffice; latest_price; old_price; discount; star_rating; ratings; reviews <br><br>\n",
        "link:<br>\n",
        "https://www.kaggle.com/datasets/kuchhbhi/latest-laptop-price-list?resource=download"
      ],
      "metadata": {
        "id": "csDKe7X2HakC"
      }
    },
    {
      "cell_type": "markdown",
      "source": [
        "##Problema e analise do problema"
      ],
      "metadata": {
        "id": "9GW-t0LcDV-c"
      }
    },
    {
      "cell_type": "markdown",
      "source": [
        "O objetivo e prever o valores finais do preco de notebooks com base em algumas caracteristicas e informacoes. A tarefa vai ser construir um modelo capaz de aprender com os dados fornecidos e a partiri disso prever esse valores recebendo alguns dados e a partir deles fazer essa predicao, para regular os valores e corrigir ou preecher caso algo seja perdido. Vai ser utilizado a regressao"
      ],
      "metadata": {
        "id": "4SegbhgPDY_d"
      }
    },
    {
      "cell_type": "markdown",
      "source": [
        "Componentes rodam de forma assíncrona<br>\n",
        "Quanto à Supervisão: Treinamento Supervisionado (dados rotulados)<br>\n",
        "Quanto à Tarefa: Regressão multivariada (previsão de valor contínuo com múltiplas características)<br>\n",
        "Quanto ao Modo: Aprendizado em Lote (não há fluxo contínuo de dados, não há necessidade de ajuste rápido a mudança de dados, dados são pequenos para memória)<br>\n",
        "Medida de Desempenho*: Raiz do Erro Quadrático Médio (RMSE), erro absoluto médio (MAE)<br>"
      ],
      "metadata": {
        "id": "2kuuhEVTJpK5"
      }
    },
    {
      "cell_type": "markdown",
      "source": [
        "OBS: Os dados nao precisaram ser modificados manualmente para serem tradados depois, visto que ja continham problemas que precisariam ser tratados"
      ],
      "metadata": {
        "id": "x0A7K5I5ltkM"
      }
    },
    {
      "cell_type": "markdown",
      "source": [
        "##CONFIGURACAO E IMPORTACOES"
      ],
      "metadata": {
        "id": "ytEtPXh3DwfG"
      }
    },
    {
      "cell_type": "markdown",
      "source": [
        "Primeiro, vamos importar alguns módulos comuns, garantir que o MatplotLib plote as figuras inline e prepare uma função para salvar as figuras. Também verificamos se o Python 3.5 ou posterior está instalado (embora o Python 2.x possa funcionar, ele está obsoleto, portanto, recomendamos fortemente que você use o Python 3), bem como o Scikit-Learn ≥0.20. \"\"\""
      ],
      "metadata": {
        "id": "3KZpide29ZdV"
      }
    },
    {
      "cell_type": "code",
      "source": [
        "# Python ≥3.5 é obrigatório\n",
        "import sys\n",
        "assert sys.version_info >= (3, 5)\n",
        "# Scikit-Learn ≥0.20 é obrigatório\n",
        "import sklearn\n",
        "assert sklearn.__version__ >= \"0.20\"\n",
        "# Importações comuns\n",
        "import numpy as np\n",
        "import os"
      ],
      "metadata": {
        "id": "E7uzWeuF9aqT"
      },
      "execution_count": null,
      "outputs": []
    },
    {
      "cell_type": "code",
      "source": [
        "# Commented out IPython magic to ensure Python compatibility.\n",
        "# Para traçar figuras bonitas\n",
        "# %matplotlib inline\n",
        "import matplotlib as mpl\n",
        "import matplotlib.pyplot as plt\n",
        "mpl.rc('axes', labelsize=14)\n",
        "mpl.rc('xtick', labelsize=12)\n",
        "mpl.rc('ytick', labelsize=12)\n",
        "\n",
        "#importando random para poder usar suas funcoes\n",
        "import random\n",
        "random.seed(42)\n",
        "\n",
        "#importando pandas\n",
        "import pandas as pd"
      ],
      "metadata": {
        "id": "QzLWCPBx9fB7"
      },
      "execution_count": null,
      "outputs": []
    },
    {
      "cell_type": "markdown",
      "source": [
        "##AGORA VAMOS PARA ANALISE DOS DADOS"
      ],
      "metadata": {
        "id": "z3HVLnzKD38p"
      }
    },
    {
      "cell_type": "markdown",
      "source": [
        "Pegando os dados e transformando em um dataframe com o pandas"
      ],
      "metadata": {
        "id": "OVTPSxMvrF2i"
      }
    },
    {
      "cell_type": "code",
      "execution_count": null,
      "metadata": {
        "id": "oSh6HgxJu0yI"
      },
      "outputs": [],
      "source": [
        "tabela= pd.read_csv('Cleaned_Laptop_data.csv')"
      ]
    },
    {
      "cell_type": "markdown",
      "source": [
        "**Vizualizando a estrutura de dados**"
      ],
      "metadata": {
        "id": "D54FmuOK9lQs"
      }
    },
    {
      "cell_type": "code",
      "source": [
        "#Vendo as 5 primeiras linhas\n",
        "tabela.head()"
      ],
      "metadata": {
        "colab": {
          "base_uri": "https://localhost:8080/",
          "height": 386
        },
        "id": "1S7o7WJIvoQS",
        "outputId": "7cbbd299-f9fb-48f2-914e-fbce719fda65"
      },
      "execution_count": null,
      "outputs": [
        {
          "output_type": "execute_result",
          "data": {
            "text/plain": [
              "    brand    model processor_brand     processor_name processor_gnrtn  \\\n",
              "0  Lenovo  A6-9225             AMD  A6-9225 Processor            10th   \n",
              "1  Lenovo  Ideapad             AMD           APU Dual            10th   \n",
              "2   Avita     PURA             AMD           APU Dual            10th   \n",
              "3   Avita     PURA             AMD           APU Dual            10th   \n",
              "4   Avita     PURA             AMD           APU Dual            10th   \n",
              "\n",
              "    ram_gb ram_type     ssd      hdd       os  ... display_size  warranty  \\\n",
              "0  4 GB GB     DDR4    0 GB  1024 GB  Windows  ...      Missing         0   \n",
              "1  4 GB GB     DDR4    0 GB   512 GB  Windows  ...      Missing         0   \n",
              "2  4 GB GB     DDR4  128 GB     0 GB  Windows  ...      Missing         0   \n",
              "3  4 GB GB     DDR4  128 GB     0 GB  Windows  ...      Missing         0   \n",
              "4  4 GB GB     DDR4  256 GB     0 GB  Windows  ...      Missing         0   \n",
              "\n",
              "  Touchscreen msoffice  latest_price old_price discount  star_rating  ratings  \\\n",
              "0          No       No         24990     32790       23          3.7       63   \n",
              "1          No       No         19590     21325        8          3.6     1894   \n",
              "2          No       No         19990     27990       28          3.7     1153   \n",
              "3          No       No         21490     27990       23          3.7     1153   \n",
              "4          No       No         24990     33490       25          3.7     1657   \n",
              "\n",
              "   reviews  \n",
              "0       12  \n",
              "1      256  \n",
              "2      159  \n",
              "3      159  \n",
              "4      234  \n",
              "\n",
              "[5 rows x 23 columns]"
            ],
            "text/html": [
              "\n",
              "  <div id=\"df-5051d4f4-b879-4065-84f3-143760872131\">\n",
              "    <div class=\"colab-df-container\">\n",
              "      <div>\n",
              "<style scoped>\n",
              "    .dataframe tbody tr th:only-of-type {\n",
              "        vertical-align: middle;\n",
              "    }\n",
              "\n",
              "    .dataframe tbody tr th {\n",
              "        vertical-align: top;\n",
              "    }\n",
              "\n",
              "    .dataframe thead th {\n",
              "        text-align: right;\n",
              "    }\n",
              "</style>\n",
              "<table border=\"1\" class=\"dataframe\">\n",
              "  <thead>\n",
              "    <tr style=\"text-align: right;\">\n",
              "      <th></th>\n",
              "      <th>brand</th>\n",
              "      <th>model</th>\n",
              "      <th>processor_brand</th>\n",
              "      <th>processor_name</th>\n",
              "      <th>processor_gnrtn</th>\n",
              "      <th>ram_gb</th>\n",
              "      <th>ram_type</th>\n",
              "      <th>ssd</th>\n",
              "      <th>hdd</th>\n",
              "      <th>os</th>\n",
              "      <th>...</th>\n",
              "      <th>display_size</th>\n",
              "      <th>warranty</th>\n",
              "      <th>Touchscreen</th>\n",
              "      <th>msoffice</th>\n",
              "      <th>latest_price</th>\n",
              "      <th>old_price</th>\n",
              "      <th>discount</th>\n",
              "      <th>star_rating</th>\n",
              "      <th>ratings</th>\n",
              "      <th>reviews</th>\n",
              "    </tr>\n",
              "  </thead>\n",
              "  <tbody>\n",
              "    <tr>\n",
              "      <th>0</th>\n",
              "      <td>Lenovo</td>\n",
              "      <td>A6-9225</td>\n",
              "      <td>AMD</td>\n",
              "      <td>A6-9225 Processor</td>\n",
              "      <td>10th</td>\n",
              "      <td>4 GB GB</td>\n",
              "      <td>DDR4</td>\n",
              "      <td>0 GB</td>\n",
              "      <td>1024 GB</td>\n",
              "      <td>Windows</td>\n",
              "      <td>...</td>\n",
              "      <td>Missing</td>\n",
              "      <td>0</td>\n",
              "      <td>No</td>\n",
              "      <td>No</td>\n",
              "      <td>24990</td>\n",
              "      <td>32790</td>\n",
              "      <td>23</td>\n",
              "      <td>3.7</td>\n",
              "      <td>63</td>\n",
              "      <td>12</td>\n",
              "    </tr>\n",
              "    <tr>\n",
              "      <th>1</th>\n",
              "      <td>Lenovo</td>\n",
              "      <td>Ideapad</td>\n",
              "      <td>AMD</td>\n",
              "      <td>APU Dual</td>\n",
              "      <td>10th</td>\n",
              "      <td>4 GB GB</td>\n",
              "      <td>DDR4</td>\n",
              "      <td>0 GB</td>\n",
              "      <td>512 GB</td>\n",
              "      <td>Windows</td>\n",
              "      <td>...</td>\n",
              "      <td>Missing</td>\n",
              "      <td>0</td>\n",
              "      <td>No</td>\n",
              "      <td>No</td>\n",
              "      <td>19590</td>\n",
              "      <td>21325</td>\n",
              "      <td>8</td>\n",
              "      <td>3.6</td>\n",
              "      <td>1894</td>\n",
              "      <td>256</td>\n",
              "    </tr>\n",
              "    <tr>\n",
              "      <th>2</th>\n",
              "      <td>Avita</td>\n",
              "      <td>PURA</td>\n",
              "      <td>AMD</td>\n",
              "      <td>APU Dual</td>\n",
              "      <td>10th</td>\n",
              "      <td>4 GB GB</td>\n",
              "      <td>DDR4</td>\n",
              "      <td>128 GB</td>\n",
              "      <td>0 GB</td>\n",
              "      <td>Windows</td>\n",
              "      <td>...</td>\n",
              "      <td>Missing</td>\n",
              "      <td>0</td>\n",
              "      <td>No</td>\n",
              "      <td>No</td>\n",
              "      <td>19990</td>\n",
              "      <td>27990</td>\n",
              "      <td>28</td>\n",
              "      <td>3.7</td>\n",
              "      <td>1153</td>\n",
              "      <td>159</td>\n",
              "    </tr>\n",
              "    <tr>\n",
              "      <th>3</th>\n",
              "      <td>Avita</td>\n",
              "      <td>PURA</td>\n",
              "      <td>AMD</td>\n",
              "      <td>APU Dual</td>\n",
              "      <td>10th</td>\n",
              "      <td>4 GB GB</td>\n",
              "      <td>DDR4</td>\n",
              "      <td>128 GB</td>\n",
              "      <td>0 GB</td>\n",
              "      <td>Windows</td>\n",
              "      <td>...</td>\n",
              "      <td>Missing</td>\n",
              "      <td>0</td>\n",
              "      <td>No</td>\n",
              "      <td>No</td>\n",
              "      <td>21490</td>\n",
              "      <td>27990</td>\n",
              "      <td>23</td>\n",
              "      <td>3.7</td>\n",
              "      <td>1153</td>\n",
              "      <td>159</td>\n",
              "    </tr>\n",
              "    <tr>\n",
              "      <th>4</th>\n",
              "      <td>Avita</td>\n",
              "      <td>PURA</td>\n",
              "      <td>AMD</td>\n",
              "      <td>APU Dual</td>\n",
              "      <td>10th</td>\n",
              "      <td>4 GB GB</td>\n",
              "      <td>DDR4</td>\n",
              "      <td>256 GB</td>\n",
              "      <td>0 GB</td>\n",
              "      <td>Windows</td>\n",
              "      <td>...</td>\n",
              "      <td>Missing</td>\n",
              "      <td>0</td>\n",
              "      <td>No</td>\n",
              "      <td>No</td>\n",
              "      <td>24990</td>\n",
              "      <td>33490</td>\n",
              "      <td>25</td>\n",
              "      <td>3.7</td>\n",
              "      <td>1657</td>\n",
              "      <td>234</td>\n",
              "    </tr>\n",
              "  </tbody>\n",
              "</table>\n",
              "<p>5 rows × 23 columns</p>\n",
              "</div>\n",
              "      <button class=\"colab-df-convert\" onclick=\"convertToInteractive('df-5051d4f4-b879-4065-84f3-143760872131')\"\n",
              "              title=\"Convert this dataframe to an interactive table.\"\n",
              "              style=\"display:none;\">\n",
              "        \n",
              "  <svg xmlns=\"http://www.w3.org/2000/svg\" height=\"24px\"viewBox=\"0 0 24 24\"\n",
              "       width=\"24px\">\n",
              "    <path d=\"M0 0h24v24H0V0z\" fill=\"none\"/>\n",
              "    <path d=\"M18.56 5.44l.94 2.06.94-2.06 2.06-.94-2.06-.94-.94-2.06-.94 2.06-2.06.94zm-11 1L8.5 8.5l.94-2.06 2.06-.94-2.06-.94L8.5 2.5l-.94 2.06-2.06.94zm10 10l.94 2.06.94-2.06 2.06-.94-2.06-.94-.94-2.06-.94 2.06-2.06.94z\"/><path d=\"M17.41 7.96l-1.37-1.37c-.4-.4-.92-.59-1.43-.59-.52 0-1.04.2-1.43.59L10.3 9.45l-7.72 7.72c-.78.78-.78 2.05 0 2.83L4 21.41c.39.39.9.59 1.41.59.51 0 1.02-.2 1.41-.59l7.78-7.78 2.81-2.81c.8-.78.8-2.07 0-2.86zM5.41 20L4 18.59l7.72-7.72 1.47 1.35L5.41 20z\"/>\n",
              "  </svg>\n",
              "      </button>\n",
              "      \n",
              "  <style>\n",
              "    .colab-df-container {\n",
              "      display:flex;\n",
              "      flex-wrap:wrap;\n",
              "      gap: 12px;\n",
              "    }\n",
              "\n",
              "    .colab-df-convert {\n",
              "      background-color: #E8F0FE;\n",
              "      border: none;\n",
              "      border-radius: 50%;\n",
              "      cursor: pointer;\n",
              "      display: none;\n",
              "      fill: #1967D2;\n",
              "      height: 32px;\n",
              "      padding: 0 0 0 0;\n",
              "      width: 32px;\n",
              "    }\n",
              "\n",
              "    .colab-df-convert:hover {\n",
              "      background-color: #E2EBFA;\n",
              "      box-shadow: 0px 1px 2px rgba(60, 64, 67, 0.3), 0px 1px 3px 1px rgba(60, 64, 67, 0.15);\n",
              "      fill: #174EA6;\n",
              "    }\n",
              "\n",
              "    [theme=dark] .colab-df-convert {\n",
              "      background-color: #3B4455;\n",
              "      fill: #D2E3FC;\n",
              "    }\n",
              "\n",
              "    [theme=dark] .colab-df-convert:hover {\n",
              "      background-color: #434B5C;\n",
              "      box-shadow: 0px 1px 3px 1px rgba(0, 0, 0, 0.15);\n",
              "      filter: drop-shadow(0px 1px 2px rgba(0, 0, 0, 0.3));\n",
              "      fill: #FFFFFF;\n",
              "    }\n",
              "  </style>\n",
              "\n",
              "      <script>\n",
              "        const buttonEl =\n",
              "          document.querySelector('#df-5051d4f4-b879-4065-84f3-143760872131 button.colab-df-convert');\n",
              "        buttonEl.style.display =\n",
              "          google.colab.kernel.accessAllowed ? 'block' : 'none';\n",
              "\n",
              "        async function convertToInteractive(key) {\n",
              "          const element = document.querySelector('#df-5051d4f4-b879-4065-84f3-143760872131');\n",
              "          const dataTable =\n",
              "            await google.colab.kernel.invokeFunction('convertToInteractive',\n",
              "                                                     [key], {});\n",
              "          if (!dataTable) return;\n",
              "\n",
              "          const docLinkHtml = 'Like what you see? Visit the ' +\n",
              "            '<a target=\"_blank\" href=https://colab.research.google.com/notebooks/data_table.ipynb>data table notebook</a>'\n",
              "            + ' to learn more about interactive tables.';\n",
              "          element.innerHTML = '';\n",
              "          dataTable['output_type'] = 'display_data';\n",
              "          await google.colab.output.renderOutput(dataTable, element);\n",
              "          const docLink = document.createElement('div');\n",
              "          docLink.innerHTML = docLinkHtml;\n",
              "          element.appendChild(docLink);\n",
              "        }\n",
              "      </script>\n",
              "    </div>\n",
              "  </div>\n",
              "  "
            ]
          },
          "metadata": {},
          "execution_count": 2421
        }
      ]
    },
    {
      "cell_type": "code",
      "source": [
        "#Vendo as 5 ultimas linhas\n",
        "tabela.tail()"
      ],
      "metadata": {
        "colab": {
          "base_uri": "https://localhost:8080/",
          "height": 386
        },
        "id": "hCOfidhxvtxe",
        "outputId": "887a2b5f-1974-4025-cc36-82049c16274c"
      },
      "execution_count": null,
      "outputs": [
        {
          "output_type": "execute_result",
          "data": {
            "text/plain": [
              "       brand     model processor_brand processor_name processor_gnrtn  \\\n",
              "891     ASUS       ROG             AMD        Ryzen 9         Missing   \n",
              "892     ASUS     Ryzen             AMD        Ryzen 9         Missing   \n",
              "893     ASUS     Ryzen             AMD        Ryzen 9         Missing   \n",
              "894  SAMSUNG    Galaxy        Qualcomm  Snapdragon 7c         Missing   \n",
              "895   Lenovo  Thinkpad             AMD        Ryzen 5            10th   \n",
              "\n",
              "      ram_gb ram_type      ssd     hdd       os  ... display_size  warranty  \\\n",
              "891  4 GB GB     DDR4  1024 GB    0 GB  Windows  ...           16         1   \n",
              "892  4 GB GB     DDR4  1024 GB    0 GB  Windows  ...      Missing         1   \n",
              "893  4 GB GB     DDR4  1024 GB    0 GB  Windows  ...           16         1   \n",
              "894  4 GB GB  LPDDR4X     0 GB  512 GB  Windows  ...      Missing         0   \n",
              "895  8 GB GB     DDR4   512 GB    0 GB      DOS  ...           14         0   \n",
              "\n",
              "    Touchscreen msoffice  latest_price old_price discount  star_rating  \\\n",
              "891          No       No        144990    194990       25          0.0   \n",
              "892          No       No        149990         0        0          0.0   \n",
              "893          No       No        142990         0        0          0.0   \n",
              "894          No       No         38990     47990       18          0.0   \n",
              "895          No       No         57490     78400       26          4.2   \n",
              "\n",
              "     ratings  reviews  \n",
              "891        0        0  \n",
              "892        0        0  \n",
              "893        0        0  \n",
              "894        0        0  \n",
              "895       18        4  \n",
              "\n",
              "[5 rows x 23 columns]"
            ],
            "text/html": [
              "\n",
              "  <div id=\"df-804ca4ac-28ea-4742-bafd-9e2dea5428d6\">\n",
              "    <div class=\"colab-df-container\">\n",
              "      <div>\n",
              "<style scoped>\n",
              "    .dataframe tbody tr th:only-of-type {\n",
              "        vertical-align: middle;\n",
              "    }\n",
              "\n",
              "    .dataframe tbody tr th {\n",
              "        vertical-align: top;\n",
              "    }\n",
              "\n",
              "    .dataframe thead th {\n",
              "        text-align: right;\n",
              "    }\n",
              "</style>\n",
              "<table border=\"1\" class=\"dataframe\">\n",
              "  <thead>\n",
              "    <tr style=\"text-align: right;\">\n",
              "      <th></th>\n",
              "      <th>brand</th>\n",
              "      <th>model</th>\n",
              "      <th>processor_brand</th>\n",
              "      <th>processor_name</th>\n",
              "      <th>processor_gnrtn</th>\n",
              "      <th>ram_gb</th>\n",
              "      <th>ram_type</th>\n",
              "      <th>ssd</th>\n",
              "      <th>hdd</th>\n",
              "      <th>os</th>\n",
              "      <th>...</th>\n",
              "      <th>display_size</th>\n",
              "      <th>warranty</th>\n",
              "      <th>Touchscreen</th>\n",
              "      <th>msoffice</th>\n",
              "      <th>latest_price</th>\n",
              "      <th>old_price</th>\n",
              "      <th>discount</th>\n",
              "      <th>star_rating</th>\n",
              "      <th>ratings</th>\n",
              "      <th>reviews</th>\n",
              "    </tr>\n",
              "  </thead>\n",
              "  <tbody>\n",
              "    <tr>\n",
              "      <th>891</th>\n",
              "      <td>ASUS</td>\n",
              "      <td>ROG</td>\n",
              "      <td>AMD</td>\n",
              "      <td>Ryzen 9</td>\n",
              "      <td>Missing</td>\n",
              "      <td>4 GB GB</td>\n",
              "      <td>DDR4</td>\n",
              "      <td>1024 GB</td>\n",
              "      <td>0 GB</td>\n",
              "      <td>Windows</td>\n",
              "      <td>...</td>\n",
              "      <td>16</td>\n",
              "      <td>1</td>\n",
              "      <td>No</td>\n",
              "      <td>No</td>\n",
              "      <td>144990</td>\n",
              "      <td>194990</td>\n",
              "      <td>25</td>\n",
              "      <td>0.0</td>\n",
              "      <td>0</td>\n",
              "      <td>0</td>\n",
              "    </tr>\n",
              "    <tr>\n",
              "      <th>892</th>\n",
              "      <td>ASUS</td>\n",
              "      <td>Ryzen</td>\n",
              "      <td>AMD</td>\n",
              "      <td>Ryzen 9</td>\n",
              "      <td>Missing</td>\n",
              "      <td>4 GB GB</td>\n",
              "      <td>DDR4</td>\n",
              "      <td>1024 GB</td>\n",
              "      <td>0 GB</td>\n",
              "      <td>Windows</td>\n",
              "      <td>...</td>\n",
              "      <td>Missing</td>\n",
              "      <td>1</td>\n",
              "      <td>No</td>\n",
              "      <td>No</td>\n",
              "      <td>149990</td>\n",
              "      <td>0</td>\n",
              "      <td>0</td>\n",
              "      <td>0.0</td>\n",
              "      <td>0</td>\n",
              "      <td>0</td>\n",
              "    </tr>\n",
              "    <tr>\n",
              "      <th>893</th>\n",
              "      <td>ASUS</td>\n",
              "      <td>Ryzen</td>\n",
              "      <td>AMD</td>\n",
              "      <td>Ryzen 9</td>\n",
              "      <td>Missing</td>\n",
              "      <td>4 GB GB</td>\n",
              "      <td>DDR4</td>\n",
              "      <td>1024 GB</td>\n",
              "      <td>0 GB</td>\n",
              "      <td>Windows</td>\n",
              "      <td>...</td>\n",
              "      <td>16</td>\n",
              "      <td>1</td>\n",
              "      <td>No</td>\n",
              "      <td>No</td>\n",
              "      <td>142990</td>\n",
              "      <td>0</td>\n",
              "      <td>0</td>\n",
              "      <td>0.0</td>\n",
              "      <td>0</td>\n",
              "      <td>0</td>\n",
              "    </tr>\n",
              "    <tr>\n",
              "      <th>894</th>\n",
              "      <td>SAMSUNG</td>\n",
              "      <td>Galaxy</td>\n",
              "      <td>Qualcomm</td>\n",
              "      <td>Snapdragon 7c</td>\n",
              "      <td>Missing</td>\n",
              "      <td>4 GB GB</td>\n",
              "      <td>LPDDR4X</td>\n",
              "      <td>0 GB</td>\n",
              "      <td>512 GB</td>\n",
              "      <td>Windows</td>\n",
              "      <td>...</td>\n",
              "      <td>Missing</td>\n",
              "      <td>0</td>\n",
              "      <td>No</td>\n",
              "      <td>No</td>\n",
              "      <td>38990</td>\n",
              "      <td>47990</td>\n",
              "      <td>18</td>\n",
              "      <td>0.0</td>\n",
              "      <td>0</td>\n",
              "      <td>0</td>\n",
              "    </tr>\n",
              "    <tr>\n",
              "      <th>895</th>\n",
              "      <td>Lenovo</td>\n",
              "      <td>Thinkpad</td>\n",
              "      <td>AMD</td>\n",
              "      <td>Ryzen 5</td>\n",
              "      <td>10th</td>\n",
              "      <td>8 GB GB</td>\n",
              "      <td>DDR4</td>\n",
              "      <td>512 GB</td>\n",
              "      <td>0 GB</td>\n",
              "      <td>DOS</td>\n",
              "      <td>...</td>\n",
              "      <td>14</td>\n",
              "      <td>0</td>\n",
              "      <td>No</td>\n",
              "      <td>No</td>\n",
              "      <td>57490</td>\n",
              "      <td>78400</td>\n",
              "      <td>26</td>\n",
              "      <td>4.2</td>\n",
              "      <td>18</td>\n",
              "      <td>4</td>\n",
              "    </tr>\n",
              "  </tbody>\n",
              "</table>\n",
              "<p>5 rows × 23 columns</p>\n",
              "</div>\n",
              "      <button class=\"colab-df-convert\" onclick=\"convertToInteractive('df-804ca4ac-28ea-4742-bafd-9e2dea5428d6')\"\n",
              "              title=\"Convert this dataframe to an interactive table.\"\n",
              "              style=\"display:none;\">\n",
              "        \n",
              "  <svg xmlns=\"http://www.w3.org/2000/svg\" height=\"24px\"viewBox=\"0 0 24 24\"\n",
              "       width=\"24px\">\n",
              "    <path d=\"M0 0h24v24H0V0z\" fill=\"none\"/>\n",
              "    <path d=\"M18.56 5.44l.94 2.06.94-2.06 2.06-.94-2.06-.94-.94-2.06-.94 2.06-2.06.94zm-11 1L8.5 8.5l.94-2.06 2.06-.94-2.06-.94L8.5 2.5l-.94 2.06-2.06.94zm10 10l.94 2.06.94-2.06 2.06-.94-2.06-.94-.94-2.06-.94 2.06-2.06.94z\"/><path d=\"M17.41 7.96l-1.37-1.37c-.4-.4-.92-.59-1.43-.59-.52 0-1.04.2-1.43.59L10.3 9.45l-7.72 7.72c-.78.78-.78 2.05 0 2.83L4 21.41c.39.39.9.59 1.41.59.51 0 1.02-.2 1.41-.59l7.78-7.78 2.81-2.81c.8-.78.8-2.07 0-2.86zM5.41 20L4 18.59l7.72-7.72 1.47 1.35L5.41 20z\"/>\n",
              "  </svg>\n",
              "      </button>\n",
              "      \n",
              "  <style>\n",
              "    .colab-df-container {\n",
              "      display:flex;\n",
              "      flex-wrap:wrap;\n",
              "      gap: 12px;\n",
              "    }\n",
              "\n",
              "    .colab-df-convert {\n",
              "      background-color: #E8F0FE;\n",
              "      border: none;\n",
              "      border-radius: 50%;\n",
              "      cursor: pointer;\n",
              "      display: none;\n",
              "      fill: #1967D2;\n",
              "      height: 32px;\n",
              "      padding: 0 0 0 0;\n",
              "      width: 32px;\n",
              "    }\n",
              "\n",
              "    .colab-df-convert:hover {\n",
              "      background-color: #E2EBFA;\n",
              "      box-shadow: 0px 1px 2px rgba(60, 64, 67, 0.3), 0px 1px 3px 1px rgba(60, 64, 67, 0.15);\n",
              "      fill: #174EA6;\n",
              "    }\n",
              "\n",
              "    [theme=dark] .colab-df-convert {\n",
              "      background-color: #3B4455;\n",
              "      fill: #D2E3FC;\n",
              "    }\n",
              "\n",
              "    [theme=dark] .colab-df-convert:hover {\n",
              "      background-color: #434B5C;\n",
              "      box-shadow: 0px 1px 3px 1px rgba(0, 0, 0, 0.15);\n",
              "      filter: drop-shadow(0px 1px 2px rgba(0, 0, 0, 0.3));\n",
              "      fill: #FFFFFF;\n",
              "    }\n",
              "  </style>\n",
              "\n",
              "      <script>\n",
              "        const buttonEl =\n",
              "          document.querySelector('#df-804ca4ac-28ea-4742-bafd-9e2dea5428d6 button.colab-df-convert');\n",
              "        buttonEl.style.display =\n",
              "          google.colab.kernel.accessAllowed ? 'block' : 'none';\n",
              "\n",
              "        async function convertToInteractive(key) {\n",
              "          const element = document.querySelector('#df-804ca4ac-28ea-4742-bafd-9e2dea5428d6');\n",
              "          const dataTable =\n",
              "            await google.colab.kernel.invokeFunction('convertToInteractive',\n",
              "                                                     [key], {});\n",
              "          if (!dataTable) return;\n",
              "\n",
              "          const docLinkHtml = 'Like what you see? Visit the ' +\n",
              "            '<a target=\"_blank\" href=https://colab.research.google.com/notebooks/data_table.ipynb>data table notebook</a>'\n",
              "            + ' to learn more about interactive tables.';\n",
              "          element.innerHTML = '';\n",
              "          dataTable['output_type'] = 'display_data';\n",
              "          await google.colab.output.renderOutput(dataTable, element);\n",
              "          const docLink = document.createElement('div');\n",
              "          docLink.innerHTML = docLinkHtml;\n",
              "          element.appendChild(docLink);\n",
              "        }\n",
              "      </script>\n",
              "    </div>\n",
              "  </div>\n",
              "  "
            ]
          },
          "metadata": {},
          "execution_count": 2422
        }
      ]
    },
    {
      "cell_type": "code",
      "source": [
        "#Obtendo uma rápida descrição dos dados (Nr total de linhas, tipo de cada atributo e o nr de valores não nulos)\n",
        "tabela.info()"
      ],
      "metadata": {
        "colab": {
          "base_uri": "https://localhost:8080/"
        },
        "id": "3p-frHF_yBLR",
        "outputId": "7ed283ce-415b-46d4-8ecc-e902d5777f95"
      },
      "execution_count": null,
      "outputs": [
        {
          "output_type": "stream",
          "name": "stdout",
          "text": [
            "<class 'pandas.core.frame.DataFrame'>\n",
            "RangeIndex: 896 entries, 0 to 895\n",
            "Data columns (total 23 columns):\n",
            " #   Column           Non-Null Count  Dtype  \n",
            "---  ------           --------------  -----  \n",
            " 0   brand            896 non-null    object \n",
            " 1   model            896 non-null    object \n",
            " 2   processor_brand  896 non-null    object \n",
            " 3   processor_name   896 non-null    object \n",
            " 4   processor_gnrtn  896 non-null    object \n",
            " 5   ram_gb           896 non-null    object \n",
            " 6   ram_type         896 non-null    object \n",
            " 7   ssd              896 non-null    object \n",
            " 8   hdd              896 non-null    object \n",
            " 9   os               896 non-null    object \n",
            " 10  os_bit           896 non-null    object \n",
            " 11  graphic_card_gb  896 non-null    int64  \n",
            " 12  weight           896 non-null    object \n",
            " 13  display_size     896 non-null    object \n",
            " 14  warranty         896 non-null    int64  \n",
            " 15  Touchscreen      896 non-null    object \n",
            " 16  msoffice         896 non-null    object \n",
            " 17  latest_price     896 non-null    int64  \n",
            " 18  old_price        896 non-null    int64  \n",
            " 19  discount         896 non-null    int64  \n",
            " 20  star_rating      896 non-null    float64\n",
            " 21  ratings          896 non-null    int64  \n",
            " 22  reviews          896 non-null    int64  \n",
            "dtypes: float64(1), int64(7), object(15)\n",
            "memory usage: 161.1+ KB\n"
          ]
        }
      ]
    },
    {
      "cell_type": "markdown",
      "source": [
        "Observacao: Nao foi identificado nenhum valor nulo em nenhuma das colunas, porem ao olhar dado a dado pode-se perceber que alguns valores estao como \"missing\", e por isso precisarao ser tratados"
      ],
      "metadata": {
        "id": "lJe1XKGn-FgH"
      }
    },
    {
      "cell_type": "code",
      "source": [
        "# Descreve os atributos numéricos (medidas estatísticas)\n",
        "tabela.describe()"
      ],
      "metadata": {
        "colab": {
          "base_uri": "https://localhost:8080/",
          "height": 300
        },
        "id": "P-CZsCw9xhJZ",
        "outputId": "b2f1f07f-19e7-43ce-b8e7-05728632e9d6"
      },
      "execution_count": null,
      "outputs": [
        {
          "output_type": "execute_result",
          "data": {
            "text/plain": [
              "       graphic_card_gb    warranty   latest_price      old_price    discount  \\\n",
              "count       896.000000  896.000000     896.000000     896.000000  896.000000   \n",
              "mean          1.198661    0.691964   76309.860491   88134.154018   18.527902   \n",
              "std           2.057454    0.606282   46613.354368   55719.645554   10.508486   \n",
              "min           0.000000    0.000000   13990.000000       0.000000    0.000000   \n",
              "25%           0.000000    0.000000   45490.000000   54940.500000   11.000000   \n",
              "50%           0.000000    1.000000   63494.000000   78052.500000   19.000000   \n",
              "75%           2.000000    1.000000   89090.000000  111019.500000   26.000000   \n",
              "max           8.000000    3.000000  441990.000000  377798.000000   57.000000   \n",
              "\n",
              "       star_rating       ratings      reviews  \n",
              "count   896.000000    896.000000   896.000000  \n",
              "mean      2.980469    367.391741    46.152902  \n",
              "std       1.965254   1106.309355   136.079586  \n",
              "min       0.000000      0.000000     0.000000  \n",
              "25%       0.000000      0.000000     0.000000  \n",
              "50%       4.100000     19.000000     3.000000  \n",
              "75%       4.400000    179.500000    23.250000  \n",
              "max       5.000000  15279.000000  1947.000000  "
            ],
            "text/html": [
              "\n",
              "  <div id=\"df-8e7ea200-298b-459f-8dd9-d073e374bea4\">\n",
              "    <div class=\"colab-df-container\">\n",
              "      <div>\n",
              "<style scoped>\n",
              "    .dataframe tbody tr th:only-of-type {\n",
              "        vertical-align: middle;\n",
              "    }\n",
              "\n",
              "    .dataframe tbody tr th {\n",
              "        vertical-align: top;\n",
              "    }\n",
              "\n",
              "    .dataframe thead th {\n",
              "        text-align: right;\n",
              "    }\n",
              "</style>\n",
              "<table border=\"1\" class=\"dataframe\">\n",
              "  <thead>\n",
              "    <tr style=\"text-align: right;\">\n",
              "      <th></th>\n",
              "      <th>graphic_card_gb</th>\n",
              "      <th>warranty</th>\n",
              "      <th>latest_price</th>\n",
              "      <th>old_price</th>\n",
              "      <th>discount</th>\n",
              "      <th>star_rating</th>\n",
              "      <th>ratings</th>\n",
              "      <th>reviews</th>\n",
              "    </tr>\n",
              "  </thead>\n",
              "  <tbody>\n",
              "    <tr>\n",
              "      <th>count</th>\n",
              "      <td>896.000000</td>\n",
              "      <td>896.000000</td>\n",
              "      <td>896.000000</td>\n",
              "      <td>896.000000</td>\n",
              "      <td>896.000000</td>\n",
              "      <td>896.000000</td>\n",
              "      <td>896.000000</td>\n",
              "      <td>896.000000</td>\n",
              "    </tr>\n",
              "    <tr>\n",
              "      <th>mean</th>\n",
              "      <td>1.198661</td>\n",
              "      <td>0.691964</td>\n",
              "      <td>76309.860491</td>\n",
              "      <td>88134.154018</td>\n",
              "      <td>18.527902</td>\n",
              "      <td>2.980469</td>\n",
              "      <td>367.391741</td>\n",
              "      <td>46.152902</td>\n",
              "    </tr>\n",
              "    <tr>\n",
              "      <th>std</th>\n",
              "      <td>2.057454</td>\n",
              "      <td>0.606282</td>\n",
              "      <td>46613.354368</td>\n",
              "      <td>55719.645554</td>\n",
              "      <td>10.508486</td>\n",
              "      <td>1.965254</td>\n",
              "      <td>1106.309355</td>\n",
              "      <td>136.079586</td>\n",
              "    </tr>\n",
              "    <tr>\n",
              "      <th>min</th>\n",
              "      <td>0.000000</td>\n",
              "      <td>0.000000</td>\n",
              "      <td>13990.000000</td>\n",
              "      <td>0.000000</td>\n",
              "      <td>0.000000</td>\n",
              "      <td>0.000000</td>\n",
              "      <td>0.000000</td>\n",
              "      <td>0.000000</td>\n",
              "    </tr>\n",
              "    <tr>\n",
              "      <th>25%</th>\n",
              "      <td>0.000000</td>\n",
              "      <td>0.000000</td>\n",
              "      <td>45490.000000</td>\n",
              "      <td>54940.500000</td>\n",
              "      <td>11.000000</td>\n",
              "      <td>0.000000</td>\n",
              "      <td>0.000000</td>\n",
              "      <td>0.000000</td>\n",
              "    </tr>\n",
              "    <tr>\n",
              "      <th>50%</th>\n",
              "      <td>0.000000</td>\n",
              "      <td>1.000000</td>\n",
              "      <td>63494.000000</td>\n",
              "      <td>78052.500000</td>\n",
              "      <td>19.000000</td>\n",
              "      <td>4.100000</td>\n",
              "      <td>19.000000</td>\n",
              "      <td>3.000000</td>\n",
              "    </tr>\n",
              "    <tr>\n",
              "      <th>75%</th>\n",
              "      <td>2.000000</td>\n",
              "      <td>1.000000</td>\n",
              "      <td>89090.000000</td>\n",
              "      <td>111019.500000</td>\n",
              "      <td>26.000000</td>\n",
              "      <td>4.400000</td>\n",
              "      <td>179.500000</td>\n",
              "      <td>23.250000</td>\n",
              "    </tr>\n",
              "    <tr>\n",
              "      <th>max</th>\n",
              "      <td>8.000000</td>\n",
              "      <td>3.000000</td>\n",
              "      <td>441990.000000</td>\n",
              "      <td>377798.000000</td>\n",
              "      <td>57.000000</td>\n",
              "      <td>5.000000</td>\n",
              "      <td>15279.000000</td>\n",
              "      <td>1947.000000</td>\n",
              "    </tr>\n",
              "  </tbody>\n",
              "</table>\n",
              "</div>\n",
              "      <button class=\"colab-df-convert\" onclick=\"convertToInteractive('df-8e7ea200-298b-459f-8dd9-d073e374bea4')\"\n",
              "              title=\"Convert this dataframe to an interactive table.\"\n",
              "              style=\"display:none;\">\n",
              "        \n",
              "  <svg xmlns=\"http://www.w3.org/2000/svg\" height=\"24px\"viewBox=\"0 0 24 24\"\n",
              "       width=\"24px\">\n",
              "    <path d=\"M0 0h24v24H0V0z\" fill=\"none\"/>\n",
              "    <path d=\"M18.56 5.44l.94 2.06.94-2.06 2.06-.94-2.06-.94-.94-2.06-.94 2.06-2.06.94zm-11 1L8.5 8.5l.94-2.06 2.06-.94-2.06-.94L8.5 2.5l-.94 2.06-2.06.94zm10 10l.94 2.06.94-2.06 2.06-.94-2.06-.94-.94-2.06-.94 2.06-2.06.94z\"/><path d=\"M17.41 7.96l-1.37-1.37c-.4-.4-.92-.59-1.43-.59-.52 0-1.04.2-1.43.59L10.3 9.45l-7.72 7.72c-.78.78-.78 2.05 0 2.83L4 21.41c.39.39.9.59 1.41.59.51 0 1.02-.2 1.41-.59l7.78-7.78 2.81-2.81c.8-.78.8-2.07 0-2.86zM5.41 20L4 18.59l7.72-7.72 1.47 1.35L5.41 20z\"/>\n",
              "  </svg>\n",
              "      </button>\n",
              "      \n",
              "  <style>\n",
              "    .colab-df-container {\n",
              "      display:flex;\n",
              "      flex-wrap:wrap;\n",
              "      gap: 12px;\n",
              "    }\n",
              "\n",
              "    .colab-df-convert {\n",
              "      background-color: #E8F0FE;\n",
              "      border: none;\n",
              "      border-radius: 50%;\n",
              "      cursor: pointer;\n",
              "      display: none;\n",
              "      fill: #1967D2;\n",
              "      height: 32px;\n",
              "      padding: 0 0 0 0;\n",
              "      width: 32px;\n",
              "    }\n",
              "\n",
              "    .colab-df-convert:hover {\n",
              "      background-color: #E2EBFA;\n",
              "      box-shadow: 0px 1px 2px rgba(60, 64, 67, 0.3), 0px 1px 3px 1px rgba(60, 64, 67, 0.15);\n",
              "      fill: #174EA6;\n",
              "    }\n",
              "\n",
              "    [theme=dark] .colab-df-convert {\n",
              "      background-color: #3B4455;\n",
              "      fill: #D2E3FC;\n",
              "    }\n",
              "\n",
              "    [theme=dark] .colab-df-convert:hover {\n",
              "      background-color: #434B5C;\n",
              "      box-shadow: 0px 1px 3px 1px rgba(0, 0, 0, 0.15);\n",
              "      filter: drop-shadow(0px 1px 2px rgba(0, 0, 0, 0.3));\n",
              "      fill: #FFFFFF;\n",
              "    }\n",
              "  </style>\n",
              "\n",
              "      <script>\n",
              "        const buttonEl =\n",
              "          document.querySelector('#df-8e7ea200-298b-459f-8dd9-d073e374bea4 button.colab-df-convert');\n",
              "        buttonEl.style.display =\n",
              "          google.colab.kernel.accessAllowed ? 'block' : 'none';\n",
              "\n",
              "        async function convertToInteractive(key) {\n",
              "          const element = document.querySelector('#df-8e7ea200-298b-459f-8dd9-d073e374bea4');\n",
              "          const dataTable =\n",
              "            await google.colab.kernel.invokeFunction('convertToInteractive',\n",
              "                                                     [key], {});\n",
              "          if (!dataTable) return;\n",
              "\n",
              "          const docLinkHtml = 'Like what you see? Visit the ' +\n",
              "            '<a target=\"_blank\" href=https://colab.research.google.com/notebooks/data_table.ipynb>data table notebook</a>'\n",
              "            + ' to learn more about interactive tables.';\n",
              "          element.innerHTML = '';\n",
              "          dataTable['output_type'] = 'display_data';\n",
              "          await google.colab.output.renderOutput(dataTable, element);\n",
              "          const docLink = document.createElement('div');\n",
              "          docLink.innerHTML = docLinkHtml;\n",
              "          element.appendChild(docLink);\n",
              "        }\n",
              "      </script>\n",
              "    </div>\n",
              "  </div>\n",
              "  "
            ]
          },
          "metadata": {},
          "execution_count": 2424
        }
      ]
    },
    {
      "cell_type": "markdown",
      "source": [
        "Criando histogramas para poder ver melhor os dados e poder tirar algumas conclusoes"
      ],
      "metadata": {
        "id": "38v5VyZg_b9y"
      }
    },
    {
      "cell_type": "code",
      "source": [
        "#importando matplotlib\n",
        "import matplotlib.pyplot as plt\n",
        "tabela.hist(bins=50, figsize=(20,15))\n",
        "plt.show()"
      ],
      "metadata": {
        "colab": {
          "base_uri": "https://localhost:8080/",
          "height": 774
        },
        "id": "01k4vAHl_LJ-",
        "outputId": "b36920e3-237f-4461-fe55-7f1dbd42b0e8"
      },
      "execution_count": null,
      "outputs": [
        {
          "output_type": "display_data",
          "data": {
            "text/plain": [
              "<Figure size 1440x1080 with 9 Axes>"
            ],
            "image/png": "[encoded data removed]"
          },
          "metadata": {
            "needs_background": "light"
          }
        }
      ]
    },
    {
      "cell_type": "markdown",
      "source": [
        "Nessa etapa, de um forma geral, os dados da tabela foram visto, desde a visualizacao de partes da tabela, ate informacoes de como estao cada coluna, do tipo de dado presente nela e se existem ou nao valores nulos. Alem de terem sido plotados graficos de como estao os valores dos dados nas culunas"
      ],
      "metadata": {
        "id": "uN0u5Nj-wL_V"
      }
    },
    {
      "cell_type": "markdown",
      "source": [
        "**BUSCANDO CORRELACAO**"
      ],
      "metadata": {
        "id": "giCJKO4uRmhM"
      }
    },
    {
      "cell_type": "markdown",
      "source": [
        "O coeficiente de correlação varia de -1 a 1. Próximo de 1 é uma forte correlação positiva, próximo de -1 é uma forte correlação negativa e próximo de zero significa que não há correlação linear."
      ],
      "metadata": {
        "id": "DtdlUqWDRpv2"
      }
    },
    {
      "cell_type": "code",
      "source": [
        "corr_matrix = tabela.corr()"
      ],
      "metadata": {
        "id": "tAtlwW-fwngn"
      },
      "execution_count": null,
      "outputs": []
    },
    {
      "cell_type": "code",
      "source": [
        "corr_matrix[\"latest_price\"].sort_values(ascending=False)"
      ],
      "metadata": {
        "colab": {
          "base_uri": "https://localhost:8080/"
        },
        "id": "aGqlBmvHwqIO",
        "outputId": "b47b69a3-5a8e-4542-c489-cb6934b6f0d7"
      },
      "execution_count": null,
      "outputs": [
        {
          "output_type": "execute_result",
          "data": {
            "text/plain": [
              "latest_price       1.000000\n",
              "old_price          0.748372\n",
              "graphic_card_gb    0.487809\n",
              "warranty           0.039767\n",
              "star_rating       -0.161925\n",
              "ratings           -0.164366\n",
              "reviews           -0.170354\n",
              "discount          -0.212207\n",
              "Name: latest_price, dtype: float64"
            ]
          },
          "metadata": {},
          "execution_count": 2427
        }
      ]
    },
    {
      "cell_type": "markdown",
      "source": [
        "Pode-se perceber uma forte correlacao positiva entre o latest_price e o old_price, dentre todos, esse e o que possui maior correlacao. Quanto maior o old_price maior a tendencia do latest_price ser. Em segundo lugar o graphic_card_gb. Agora os que possuem maior correlacao negativa sao, discount, reviews, ratings e star_rating."
      ],
      "metadata": {
        "id": "PwMequweRrYI"
      }
    },
    {
      "cell_type": "markdown",
      "source": [
        "Outra maneira de verificar a correlação entre atributos é utilizar a função scatter_matrix, do Pandas, que plota cada atributo numérico em relação a qualquer outro atributo numérico . Então, selecionamos apenas alguns atributos promissores que parecem mais correlacionados com o valor final do notebook."
      ],
      "metadata": {
        "id": "XszdFVrHSfAF"
      }
    },
    {
      "cell_type": "code",
      "source": [
        "# from pandas.tools.plotting import scatter_matrix # For older versions of Pandas\n",
        "from pandas.plotting import scatter_matrix\n",
        "\n",
        "attributes = [\"latest_price\", \"old_price\", \"graphic_card_gb\",\n",
        "              \"discount\",\"reviews\"]\n",
        "scatter_matrix(tabela[attributes], figsize=(12, 8))"
      ],
      "metadata": {
        "colab": {
          "base_uri": "https://localhost:8080/",
          "height": 972
        },
        "id": "4A6jK9KDSnUj",
        "outputId": "b49c13c5-915e-4775-bc01-50d5181eed44"
      },
      "execution_count": null,
      "outputs": [
        {
          "output_type": "execute_result",
          "data": {
            "text/plain": [
              "array([[<matplotlib.axes._subplots.AxesSubplot object at 0x7f7cdee290d0>,\n",
              "        <matplotlib.axes._subplots.AxesSubplot object at 0x7f7cdee29b90>,\n",
              "        <matplotlib.axes._subplots.AxesSubplot object at 0x7f7cdee00390>,\n",
              "        <matplotlib.axes._subplots.AxesSubplot object at 0x7f7cdedb0890>,\n",
              "        <matplotlib.axes._subplots.AxesSubplot object at 0x7f7cdede3d90>],\n",
              "       [<matplotlib.axes._subplots.AxesSubplot object at 0x7f7cded282d0>,\n",
              "        <matplotlib.axes._subplots.AxesSubplot object at 0x7f7cdf795090>,\n",
              "        <matplotlib.axes._subplots.AxesSubplot object at 0x7f7cdee2f4d0>,\n",
              "        <matplotlib.axes._subplots.AxesSubplot object at 0x7f7cdee2f550>,\n",
              "        <matplotlib.axes._subplots.AxesSubplot object at 0x7f7cdf127490>],\n",
              "       [<matplotlib.axes._subplots.AxesSubplot object at 0x7f7cdeec9590>,\n",
              "        <matplotlib.axes._subplots.AxesSubplot object at 0x7f7cdf172f50>,\n",
              "        <matplotlib.axes._subplots.AxesSubplot object at 0x7f7cdef408d0>,\n",
              "        <matplotlib.axes._subplots.AxesSubplot object at 0x7f7cdf81e510>,\n",
              "        <matplotlib.axes._subplots.AxesSubplot object at 0x7f7cdf3b7a90>],\n",
              "       [<matplotlib.axes._subplots.AxesSubplot object at 0x7f7cdf288d50>,\n",
              "        <matplotlib.axes._subplots.AxesSubplot object at 0x7f7cdf7121d0>,\n",
              "        <matplotlib.axes._subplots.AxesSubplot object at 0x7f7cdf7247d0>,\n",
              "        <matplotlib.axes._subplots.AxesSubplot object at 0x7f7ce0226190>,\n",
              "        <matplotlib.axes._subplots.AxesSubplot object at 0x7f7ce007d8d0>],\n",
              "       [<matplotlib.axes._subplots.AxesSubplot object at 0x7f7ce0232610>,\n",
              "        <matplotlib.axes._subplots.AxesSubplot object at 0x7f7ce03221d0>,\n",
              "        <matplotlib.axes._subplots.AxesSubplot object at 0x7f7ce0540b90>,\n",
              "        <matplotlib.axes._subplots.AxesSubplot object at 0x7f7ce0559d90>,\n",
              "        <matplotlib.axes._subplots.AxesSubplot object at 0x7f7ce060aed0>]],\n",
              "      dtype=object)"
            ]
          },
          "metadata": {},
          "execution_count": 2428
        },
        {
          "output_type": "display_data",
          "data": {
            "text/plain": [
              "<Figure size 864x576 with 25 Axes>"
            ],
            "image/png": "[encoded data removed]"
          },
          "metadata": {
            "needs_background": "light"
          }
        }
      ]
    },
    {
      "cell_type": "markdown",
      "source": [
        "O atributo mais promissor para prever o preco final é a renda preco antigo , então vamos observar o gráfico de dispersão de correlação. E possivel ver uma proporcao muito forte de com o almente de um o outro aumentar tambem."
      ],
      "metadata": {
        "id": "-G39eXXYTFg5"
      }
    },
    {
      "cell_type": "markdown",
      "source": [
        "Nessa etapa foi feita uma observacao e uma analise dos dados que temos de uma forma geral, foi feita plotagem de graficos e matriz de correlacao para observar atributos promissores para analise, alem de plotagens de graficos de forma individual para poder ver melhor como os dados de cada coluna estao se comportando nessa correlacao"
      ],
      "metadata": {
        "id": "zLtq1bTpeyo6"
      }
    },
    {
      "cell_type": "markdown",
      "source": [
        "**OLHANDO OS DADOS CATEGORICOS UM A UM PARA TER MAIS INFORMACOES E VER COMO ESTAO SEUS VALORES E SE TEM ALGO FALTANDO**"
      ],
      "metadata": {
        "id": "KH7nlWxEFMDt"
      }
    },
    {
      "cell_type": "markdown",
      "source": [
        "Brand nao possui nenhum valor faltando"
      ],
      "metadata": {
        "id": "r69Fi2kWJCJP"
      }
    },
    {
      "cell_type": "code",
      "source": [
        "tabela['brand'].value_counts()"
      ],
      "metadata": {
        "colab": {
          "base_uri": "https://localhost:8080/"
        },
        "id": "HSlxcWMuHeDh",
        "outputId": "4af4df92-ae0f-4611-e56b-ac8d5bd83e0f"
      },
      "execution_count": null,
      "outputs": [
        {
          "output_type": "execute_result",
          "data": {
            "text/plain": [
              "ASUS         254\n",
              "DELL         154\n",
              "Lenovo       148\n",
              "HP           142\n",
              "acer          58\n",
              "MSI           52\n",
              "APPLE         28\n",
              "Avita         18\n",
              "Vaio           5\n",
              "LG             5\n",
              "Nokia          4\n",
              "ALIENWARE      4\n",
              "realme         4\n",
              "Infinix        4\n",
              "lenovo         3\n",
              "Smartron       3\n",
              "MICROSOFT      3\n",
              "RedmiBook      3\n",
              "Mi             2\n",
              "iball          1\n",
              "SAMSUNG        1\n",
              "Name: brand, dtype: int64"
            ]
          },
          "metadata": {},
          "execution_count": 2429
        }
      ]
    },
    {
      "cell_type": "markdown",
      "source": [
        "model possui 95 valores missing"
      ],
      "metadata": {
        "id": "1xPRMBt9JG63"
      }
    },
    {
      "cell_type": "code",
      "source": [
        "tabela['model'].value_counts()"
      ],
      "metadata": {
        "colab": {
          "base_uri": "https://localhost:8080/"
        },
        "id": "jI0r7y96HpPt",
        "outputId": "257cd048-2ace-48f8-ae20-2916d9bdb0bf"
      },
      "execution_count": null,
      "outputs": [
        {
          "output_type": "execute_result",
          "data": {
            "text/plain": [
              "Missing     95\n",
              "VivoBook    89\n",
              "Inspiron    77\n",
              "Pavilion    38\n",
              "IdeaPad     37\n",
              "            ..\n",
              "B50-70       1\n",
              "GE76         1\n",
              "GP65         1\n",
              "GP76         1\n",
              "Thinkpad     1\n",
              "Name: model, Length: 117, dtype: int64"
            ]
          },
          "metadata": {},
          "execution_count": 2430
        }
      ]
    },
    {
      "cell_type": "markdown",
      "source": [
        "processor_brand nao possui nenhum valor faltando"
      ],
      "metadata": {
        "id": "D5QI6UU9JNMZ"
      }
    },
    {
      "cell_type": "code",
      "source": [
        "tabela['processor_brand'].value_counts()"
      ],
      "metadata": {
        "colab": {
          "base_uri": "https://localhost:8080/"
        },
        "id": "SpJg8GDNHvvr",
        "outputId": "c4629aa9-2fc9-4bc6-cef8-027560e3ddfa"
      },
      "execution_count": null,
      "outputs": [
        {
          "output_type": "execute_result",
          "data": {
            "text/plain": [
              "Intel       660\n",
              "AMD         208\n",
              "M1           24\n",
              "MediaTek      3\n",
              "Qualcomm      1\n",
              "Name: processor_brand, dtype: int64"
            ]
          },
          "metadata": {},
          "execution_count": 2431
        }
      ]
    },
    {
      "cell_type": "markdown",
      "source": [
        "processor_name nao possui nenhum valor faltando"
      ],
      "metadata": {
        "id": "AEenjpKUJSyi"
      }
    },
    {
      "cell_type": "code",
      "source": [
        "tabela['processor_name'].value_counts()"
      ],
      "metadata": {
        "colab": {
          "base_uri": "https://localhost:8080/"
        },
        "id": "QViHCh_0H6qx",
        "outputId": "30a30f49-d19a-4ab2-dfcc-14b26944db01"
      },
      "execution_count": null,
      "outputs": [
        {
          "output_type": "execute_result",
          "data": {
            "text/plain": [
              "Core i5              312\n",
              "Core i3              170\n",
              "Core i7              112\n",
              "Ryzen 5               85\n",
              "Ryzen 7               58\n",
              "Ryzen 9               26\n",
              "Ryzen 3               26\n",
              "Celeron Dual          24\n",
              "M1                    24\n",
              "Pentium Quad          14\n",
              "Core i9                8\n",
              "APU Dual               7\n",
              "GeForce RTX            4\n",
              "MediaTek Kompanio      3\n",
              "Genuine Windows        3\n",
              "Dual Core              3\n",
              "GeForce GTX            2\n",
              "Pentium Silver         2\n",
              "Hexa Core              2\n",
              "Ever Screenpad         2\n",
              "Athlon Dual            2\n",
              "Quad                   1\n",
              "A6-9225 Processor      1\n",
              "GEFORCE RTX            1\n",
              "Core m3                1\n",
              "Core                   1\n",
              "Ryzen                  1\n",
              "Snapdragon 7c          1\n",
              "Name: processor_name, dtype: int64"
            ]
          },
          "metadata": {},
          "execution_count": 2432
        }
      ]
    },
    {
      "cell_type": "markdown",
      "source": [
        "processor_gnrtn possui 239 valores faltando"
      ],
      "metadata": {
        "id": "Lqju5GTSJW0Q"
      }
    },
    {
      "cell_type": "code",
      "source": [
        "tabela['processor_gnrtn'].value_counts()"
      ],
      "metadata": {
        "colab": {
          "base_uri": "https://localhost:8080/"
        },
        "id": "5b1ajYLvH69t",
        "outputId": "4e0b4732-8fc8-41de-85d9-695a658cf7b5"
      },
      "execution_count": null,
      "outputs": [
        {
          "output_type": "execute_result",
          "data": {
            "text/plain": [
              "11th       346\n",
              "10th       246\n",
              "Missing    239\n",
              "8th         43\n",
              "7th         12\n",
              "9th          6\n",
              "12th         3\n",
              "4th          1\n",
              "Name: processor_gnrtn, dtype: int64"
            ]
          },
          "metadata": {},
          "execution_count": 2433
        }
      ]
    },
    {
      "cell_type": "markdown",
      "source": [
        "ram_gb nao possui nenhum valor faltando"
      ],
      "metadata": {
        "id": "mx1qq1xmJbZ6"
      }
    },
    {
      "cell_type": "code",
      "source": [
        "tabela['ram_gb'].value_counts()"
      ],
      "metadata": {
        "colab": {
          "base_uri": "https://localhost:8080/"
        },
        "id": "InNJUpZ_H7NR",
        "outputId": "c6c7643e-3a3d-40f4-e5ed-e0df6977cb3a"
      },
      "execution_count": null,
      "outputs": [
        {
          "output_type": "execute_result",
          "data": {
            "text/plain": [
              "8 GB GB     454\n",
              "4 GB GB     259\n",
              "16 GB GB    180\n",
              "32 GB GB      3\n",
              "Name: ram_gb, dtype: int64"
            ]
          },
          "metadata": {},
          "execution_count": 2434
        }
      ]
    },
    {
      "cell_type": "markdown",
      "source": [
        "ram_type nao possui nenhum valor faltando"
      ],
      "metadata": {
        "id": "-o-r9xEeJfNV"
      }
    },
    {
      "cell_type": "code",
      "source": [
        "tabela['ram_type'].value_counts()"
      ],
      "metadata": {
        "colab": {
          "base_uri": "https://localhost:8080/"
        },
        "id": "PocB4ugvH7gR",
        "outputId": "187569f5-5cb6-4229-9dd8-a8a8bcfc70ae"
      },
      "execution_count": null,
      "outputs": [
        {
          "output_type": "execute_result",
          "data": {
            "text/plain": [
              "DDR4       760\n",
              "LPDDR4X     66\n",
              "LPDDR4      36\n",
              "LPDDR3      14\n",
              "DDR3        12\n",
              "DDR5         8\n",
              "Name: ram_type, dtype: int64"
            ]
          },
          "metadata": {},
          "execution_count": 2435
        }
      ]
    },
    {
      "cell_type": "markdown",
      "source": [
        "ssd nao possui nenhum valor faltando"
      ],
      "metadata": {
        "id": "RS253lGJJiFj"
      }
    },
    {
      "cell_type": "code",
      "source": [
        "tabela['ssd'].value_counts()"
      ],
      "metadata": {
        "colab": {
          "base_uri": "https://localhost:8080/"
        },
        "id": "evumjtlXIOic",
        "outputId": "cac5ecb1-7a45-4737-83f7-3f3aa15276a6"
      },
      "execution_count": null,
      "outputs": [
        {
          "output_type": "execute_result",
          "data": {
            "text/plain": [
              "512 GB     417\n",
              "256 GB     201\n",
              "0 GB       151\n",
              "1024 GB    111\n",
              "128 GB      12\n",
              "2048 GB      2\n",
              "32 GB        1\n",
              "3072 GB      1\n",
              "Name: ssd, dtype: int64"
            ]
          },
          "metadata": {},
          "execution_count": 2436
        }
      ]
    },
    {
      "cell_type": "markdown",
      "source": [
        "hdd nao possui nenhum valor faltando"
      ],
      "metadata": {
        "id": "PrZhWBXNJlHR"
      }
    },
    {
      "cell_type": "code",
      "source": [
        "tabela['hdd'].value_counts()"
      ],
      "metadata": {
        "colab": {
          "base_uri": "https://localhost:8080/"
        },
        "id": "lbSO7UHgIO31",
        "outputId": "24e21c5c-55b9-4dd0-8e2f-551d42a85298"
      },
      "execution_count": null,
      "outputs": [
        {
          "output_type": "execute_result",
          "data": {
            "text/plain": [
              "0 GB       666\n",
              "1024 GB    164\n",
              "512 GB      65\n",
              "2048 GB      1\n",
              "Name: hdd, dtype: int64"
            ]
          },
          "metadata": {},
          "execution_count": 2437
        }
      ]
    },
    {
      "cell_type": "markdown",
      "source": [
        "os nao possui nenhum valor faltando"
      ],
      "metadata": {
        "id": "Jj3rMmQvJoK4"
      }
    },
    {
      "cell_type": "code",
      "source": [
        "tabela['os'].value_counts()"
      ],
      "metadata": {
        "colab": {
          "base_uri": "https://localhost:8080/"
        },
        "id": "EJ6LEzvYIPTz",
        "outputId": "c58c0503-9d7f-443b-b777-51361757fc04"
      },
      "execution_count": null,
      "outputs": [
        {
          "output_type": "execute_result",
          "data": {
            "text/plain": [
              "Windows    832\n",
              "DOS         36\n",
              "Mac         28\n",
              "Name: os, dtype: int64"
            ]
          },
          "metadata": {},
          "execution_count": 2438
        }
      ]
    },
    {
      "cell_type": "markdown",
      "source": [
        "os_bit nao possui nenhum valor faltando"
      ],
      "metadata": {
        "id": "UcPCuXjNJrNX"
      }
    },
    {
      "cell_type": "code",
      "source": [
        "tabela['os_bit'].value_counts()"
      ],
      "metadata": {
        "colab": {
          "base_uri": "https://localhost:8080/"
        },
        "id": "F-BIc7cjIPoB",
        "outputId": "47922278-4df5-4163-8b85-bda3a63717e2"
      },
      "execution_count": null,
      "outputs": [
        {
          "output_type": "execute_result",
          "data": {
            "text/plain": [
              "64-bit    761\n",
              "32-bit    135\n",
              "Name: os_bit, dtype: int64"
            ]
          },
          "metadata": {},
          "execution_count": 2439
        }
      ]
    },
    {
      "cell_type": "markdown",
      "source": [
        "weight nao possui nenhum valor faltando"
      ],
      "metadata": {
        "id": "BPwAJxG7Jt5n"
      }
    },
    {
      "cell_type": "code",
      "source": [
        "tabela['weight'].value_counts()"
      ],
      "metadata": {
        "colab": {
          "base_uri": "https://localhost:8080/"
        },
        "id": "gTfhAsc0Ig-Y",
        "outputId": "ae1db091-b044-425d-8ef7-9b24d8f87d05"
      },
      "execution_count": null,
      "outputs": [
        {
          "output_type": "execute_result",
          "data": {
            "text/plain": [
              "Casual        566\n",
              "ThinNlight    291\n",
              "Gaming         39\n",
              "Name: weight, dtype: int64"
            ]
          },
          "metadata": {},
          "execution_count": 2440
        }
      ]
    },
    {
      "cell_type": "markdown",
      "source": [
        "display_size possui 332 valores faltando"
      ],
      "metadata": {
        "id": "Qs0N7idiJxUG"
      }
    },
    {
      "cell_type": "code",
      "source": [
        "tabela['display_size'].value_counts()"
      ],
      "metadata": {
        "colab": {
          "base_uri": "https://localhost:8080/"
        },
        "id": "ccK38M0mIhQy",
        "outputId": "f0e8dca2-1283-4072-cf77-8d1d6a8a624f"
      },
      "execution_count": null,
      "outputs": [
        {
          "output_type": "execute_result",
          "data": {
            "text/plain": [
              "Missing    332\n",
              "15.6       218\n",
              "16         135\n",
              "14         131\n",
              "13.3        40\n",
              "17.3         9\n",
              "14.96        7\n",
              "14.1         6\n",
              "13           4\n",
              "15           3\n",
              "14.2         3\n",
              "16.2         3\n",
              "12.2         2\n",
              "14.9         1\n",
              "16.1         1\n",
              "13.4         1\n",
              "Name: display_size, dtype: int64"
            ]
          },
          "metadata": {},
          "execution_count": 2441
        }
      ]
    },
    {
      "cell_type": "markdown",
      "source": [
        "Touchscreen nao possui nenhum valor faltando"
      ],
      "metadata": {
        "id": "jgeR3Ot5J3FQ"
      }
    },
    {
      "cell_type": "code",
      "source": [
        "tabela['Touchscreen'].value_counts()"
      ],
      "metadata": {
        "colab": {
          "base_uri": "https://localhost:8080/"
        },
        "id": "H0FviBxVIhi7",
        "outputId": "85b97419-4fac-4cc5-a136-f7029aa396d6"
      },
      "execution_count": null,
      "outputs": [
        {
          "output_type": "execute_result",
          "data": {
            "text/plain": [
              "No     793\n",
              "Yes    103\n",
              "Name: Touchscreen, dtype: int64"
            ]
          },
          "metadata": {},
          "execution_count": 2442
        }
      ]
    },
    {
      "cell_type": "markdown",
      "source": [
        "msoffice nao possui nenhum valor faltando"
      ],
      "metadata": {
        "id": "O5sXcGdKJ6ZL"
      }
    },
    {
      "cell_type": "code",
      "source": [
        "tabela['msoffice'].value_counts()"
      ],
      "metadata": {
        "colab": {
          "base_uri": "https://localhost:8080/"
        },
        "id": "Ohaz7ikRIh8h",
        "outputId": "b237020c-31d4-48b6-94f0-08a8001bd03c"
      },
      "execution_count": null,
      "outputs": [
        {
          "output_type": "execute_result",
          "data": {
            "text/plain": [
              "No     606\n",
              "Yes    290\n",
              "Name: msoffice, dtype: int64"
            ]
          },
          "metadata": {},
          "execution_count": 2443
        }
      ]
    },
    {
      "cell_type": "code",
      "source": [
        "tabela.info()"
      ],
      "metadata": {
        "colab": {
          "base_uri": "https://localhost:8080/"
        },
        "id": "h7XhCvvfVICc",
        "outputId": "aa53ace3-b6b2-4b62-ecf1-76856915fe55"
      },
      "execution_count": null,
      "outputs": [
        {
          "output_type": "stream",
          "name": "stdout",
          "text": [
            "<class 'pandas.core.frame.DataFrame'>\n",
            "RangeIndex: 896 entries, 0 to 895\n",
            "Data columns (total 23 columns):\n",
            " #   Column           Non-Null Count  Dtype  \n",
            "---  ------           --------------  -----  \n",
            " 0   brand            896 non-null    object \n",
            " 1   model            896 non-null    object \n",
            " 2   processor_brand  896 non-null    object \n",
            " 3   processor_name   896 non-null    object \n",
            " 4   processor_gnrtn  896 non-null    object \n",
            " 5   ram_gb           896 non-null    object \n",
            " 6   ram_type         896 non-null    object \n",
            " 7   ssd              896 non-null    object \n",
            " 8   hdd              896 non-null    object \n",
            " 9   os               896 non-null    object \n",
            " 10  os_bit           896 non-null    object \n",
            " 11  graphic_card_gb  896 non-null    int64  \n",
            " 12  weight           896 non-null    object \n",
            " 13  display_size     896 non-null    object \n",
            " 14  warranty         896 non-null    int64  \n",
            " 15  Touchscreen      896 non-null    object \n",
            " 16  msoffice         896 non-null    object \n",
            " 17  latest_price     896 non-null    int64  \n",
            " 18  old_price        896 non-null    int64  \n",
            " 19  discount         896 non-null    int64  \n",
            " 20  star_rating      896 non-null    float64\n",
            " 21  ratings          896 non-null    int64  \n",
            " 22  reviews          896 non-null    int64  \n",
            "dtypes: float64(1), int64(7), object(15)\n",
            "memory usage: 161.1+ KB\n"
          ]
        }
      ]
    },
    {
      "cell_type": "markdown",
      "source": [
        "Com isso foi analisado todos os valores de colunas categoricas do dataframe, e visto se existem valores faltando ou algum outro tipo de problema para ser tratado. Alem de ver se existem valores que podem ser transformados em numericos para o treinamento futuro\n"
      ],
      "metadata": {
        "id": "2L4LBxrYdIT3"
      }
    },
    {
      "cell_type": "markdown",
      "source": [
        "##PREPARANDO OS DADOS PARA O APRENDIZADO"
      ],
      "metadata": {
        "id": "RIQ4ejYLmaAg"
      }
    },
    {
      "cell_type": "markdown",
      "source": [
        "Criando um backup"
      ],
      "metadata": {
        "id": "3Ft_atnYxrr8"
      }
    },
    {
      "cell_type": "code",
      "source": [
        "tabela_inicial=tabela"
      ],
      "metadata": {
        "id": "2LKaQW_K_3BW"
      },
      "execution_count": null,
      "outputs": []
    },
    {
      "cell_type": "markdown",
      "source": [
        "**Limpando os Dados**"
      ],
      "metadata": {
        "id": "6bwDefKiyHnK"
      }
    },
    {
      "cell_type": "markdown",
      "source": [
        "Substituindo os valores da tabela de processador por valores inteiros, e subistituindo os dados faltando por um intermediario entre os os processadores"
      ],
      "metadata": {
        "id": "Tb4VTeYznm27"
      }
    },
    {
      "cell_type": "code",
      "source": [
        "tabela.info()"
      ],
      "metadata": {
        "colab": {
          "base_uri": "https://localhost:8080/"
        },
        "id": "z19k75q27xZp",
        "outputId": "38f6c962-2e5f-4a0e-d383-3d8b7f3e4a85"
      },
      "execution_count": null,
      "outputs": [
        {
          "output_type": "stream",
          "name": "stdout",
          "text": [
            "<class 'pandas.core.frame.DataFrame'>\n",
            "RangeIndex: 896 entries, 0 to 895\n",
            "Data columns (total 23 columns):\n",
            " #   Column           Non-Null Count  Dtype  \n",
            "---  ------           --------------  -----  \n",
            " 0   brand            896 non-null    object \n",
            " 1   model            896 non-null    object \n",
            " 2   processor_brand  896 non-null    object \n",
            " 3   processor_name   896 non-null    object \n",
            " 4   processor_gnrtn  896 non-null    object \n",
            " 5   ram_gb           896 non-null    object \n",
            " 6   ram_type         896 non-null    object \n",
            " 7   ssd              896 non-null    object \n",
            " 8   hdd              896 non-null    object \n",
            " 9   os               896 non-null    object \n",
            " 10  os_bit           896 non-null    object \n",
            " 11  graphic_card_gb  896 non-null    int64  \n",
            " 12  weight           896 non-null    object \n",
            " 13  display_size     896 non-null    object \n",
            " 14  warranty         896 non-null    int64  \n",
            " 15  Touchscreen      896 non-null    object \n",
            " 16  msoffice         896 non-null    object \n",
            " 17  latest_price     896 non-null    int64  \n",
            " 18  old_price        896 non-null    int64  \n",
            " 19  discount         896 non-null    int64  \n",
            " 20  star_rating      896 non-null    float64\n",
            " 21  ratings          896 non-null    int64  \n",
            " 22  reviews          896 non-null    int64  \n",
            "dtypes: float64(1), int64(7), object(15)\n",
            "memory usage: 161.1+ KB\n"
          ]
        }
      ]
    },
    {
      "cell_type": "code",
      "source": [
        "for nAlterar in range(0,896):\n",
        "  if tabela.iloc[nAlterar]['processor_gnrtn']=='11th':\n",
        "    tabela.iat[nAlterar,4]=11\n",
        "  if tabela.iloc[nAlterar]['processor_gnrtn']=='10th':\n",
        "    tabela.iat[nAlterar,4]=10\n",
        "  if tabela.iloc[nAlterar]['processor_gnrtn']=='8th':\n",
        "    tabela.iat[nAlterar,4]=8\n",
        "  if tabela.iloc[nAlterar]['processor_gnrtn']=='7th':\n",
        "    tabela.iat[nAlterar,4]=7\n",
        "  if tabela.iloc[nAlterar]['processor_gnrtn']=='9th':\n",
        "    tabela.iat[nAlterar,4]=9\n",
        "  if tabela.iloc[nAlterar]['processor_gnrtn']=='12th':\n",
        "    tabela.iat[nAlterar,4]=12\n",
        "  if tabela.iloc[nAlterar]['processor_gnrtn']=='4th':\n",
        "    tabela.iat[nAlterar,4]=4\n",
        "  if tabela.iloc[nAlterar]['processor_gnrtn']=='Missing':\n",
        "    tabela.iat[nAlterar,4]=9"
      ],
      "metadata": {
        "id": "86pTftmKj5kx"
      },
      "execution_count": null,
      "outputs": []
    },
    {
      "cell_type": "code",
      "source": [
        "tabela['processor_gnrtn'].value_counts()"
      ],
      "metadata": {
        "colab": {
          "base_uri": "https://localhost:8080/"
        },
        "id": "mqZOuy-cliov",
        "outputId": "a29a592f-447e-4bb4-d91b-1510ced50bc5"
      },
      "execution_count": null,
      "outputs": [
        {
          "output_type": "execute_result",
          "data": {
            "text/plain": [
              "11    346\n",
              "10    246\n",
              "9     245\n",
              "8      43\n",
              "7      12\n",
              "12      3\n",
              "4       1\n",
              "Name: processor_gnrtn, dtype: int64"
            ]
          },
          "metadata": {},
          "execution_count": 2448
        }
      ]
    },
    {
      "cell_type": "markdown",
      "source": [
        "Mudando o tipo de dado da tabela para inteiro depois de substituir os valores"
      ],
      "metadata": {
        "id": "xRGqYhEaniZh"
      }
    },
    {
      "cell_type": "code",
      "source": [
        "tabela['processor_gnrtn']= pd.to_numeric(tabela[\"processor_gnrtn\"])"
      ],
      "metadata": {
        "id": "cWD16su28W8S"
      },
      "execution_count": null,
      "outputs": []
    },
    {
      "cell_type": "markdown",
      "source": [
        "Mudar a memoria ram pra int"
      ],
      "metadata": {
        "id": "f_MTLmc4qfc1"
      }
    },
    {
      "cell_type": "code",
      "source": [
        "for nAlterar in range(0,896):\n",
        "  if tabela.iloc[nAlterar]['ram_gb']=='8 GB GB':\n",
        "    tabela.iat[nAlterar,5]=8\n",
        "  if tabela.iloc[nAlterar]['ram_gb']=='4 GB GB':\n",
        "    tabela.iat[nAlterar,5]=4\n",
        "  if tabela.iloc[nAlterar]['ram_gb']=='16 GB GB':\n",
        "    tabela.iat[nAlterar,5]=16\n",
        "  if tabela.iloc[nAlterar]['ram_gb']=='32 GB GB':\n",
        "    tabela.iat[nAlterar,5]=32\n"
      ],
      "metadata": {
        "id": "_zUXK1Tpqe3N"
      },
      "execution_count": null,
      "outputs": []
    },
    {
      "cell_type": "code",
      "source": [
        "tabela['ram_gb'].value_counts()"
      ],
      "metadata": {
        "colab": {
          "base_uri": "https://localhost:8080/"
        },
        "id": "VPlQXRqmrEO2",
        "outputId": "d88c4f2a-1d7e-4c66-f557-d5965e4cac11"
      },
      "execution_count": null,
      "outputs": [
        {
          "output_type": "execute_result",
          "data": {
            "text/plain": [
              "8     454\n",
              "4     259\n",
              "16    180\n",
              "32      3\n",
              "Name: ram_gb, dtype: int64"
            ]
          },
          "metadata": {},
          "execution_count": 2451
        }
      ]
    },
    {
      "cell_type": "markdown",
      "source": [
        "convertendo para inteiro"
      ],
      "metadata": {
        "id": "U4r4AbAq83sT"
      }
    },
    {
      "cell_type": "code",
      "source": [
        "tabela['ram_gb']= pd.to_numeric(tabela[\"ram_gb\"])"
      ],
      "metadata": {
        "id": "-vNR9eq-rOf0"
      },
      "execution_count": null,
      "outputs": []
    },
    {
      "cell_type": "code",
      "source": [
        "for nAlterar in range(0,896):\n",
        "  if tabela.iloc[nAlterar]['ssd']=='512 GB':\n",
        "    tabela.iat[nAlterar,7]=512\n",
        "  if tabela.iloc[nAlterar]['ssd']=='256 GB':\n",
        "    tabela.iat[nAlterar,7]=256\n",
        "  if tabela.iloc[nAlterar]['ssd']=='0 GB':\n",
        "    tabela.iat[nAlterar,7]=0\n",
        "  if tabela.iloc[nAlterar]['ssd']=='1024 GB':\n",
        "    tabela.iat[nAlterar,7]=1024\n",
        "  if tabela.iloc[nAlterar]['ssd']=='128 GB':\n",
        "    tabela.iat[nAlterar,7]=128\n",
        "  if tabela.iloc[nAlterar]['ssd']=='2048 GB':\n",
        "    tabela.iat[nAlterar,7]=2048\n",
        "  if tabela.iloc[nAlterar]['ssd']=='32 GB':\n",
        "    tabela.iat[nAlterar,7]=32\n",
        "  if tabela.iloc[nAlterar]['ssd']=='3072 GB':\n",
        "    tabela.iat[nAlterar,7]=3072\n"
      ],
      "metadata": {
        "id": "JVtIVO7_rh1t"
      },
      "execution_count": null,
      "outputs": []
    },
    {
      "cell_type": "code",
      "source": [
        "tabela['ssd'].value_counts()"
      ],
      "metadata": {
        "colab": {
          "base_uri": "https://localhost:8080/"
        },
        "id": "6hCpbghjsTaq",
        "outputId": "bf91921b-bafd-41b3-9b70-5cde6d18df47"
      },
      "execution_count": null,
      "outputs": [
        {
          "output_type": "execute_result",
          "data": {
            "text/plain": [
              "512     417\n",
              "256     201\n",
              "0       151\n",
              "1024    111\n",
              "128      12\n",
              "2048      2\n",
              "32        1\n",
              "3072      1\n",
              "Name: ssd, dtype: int64"
            ]
          },
          "metadata": {},
          "execution_count": 2454
        }
      ]
    },
    {
      "cell_type": "markdown",
      "source": [
        "convertendo para inteiro"
      ],
      "metadata": {
        "id": "3E2kAR_w9CeL"
      }
    },
    {
      "cell_type": "code",
      "source": [
        "tabela['ssd']= pd.to_numeric(tabela[\"ssd\"])"
      ],
      "metadata": {
        "id": "LLysqqdYsb0t"
      },
      "execution_count": null,
      "outputs": []
    },
    {
      "cell_type": "code",
      "source": [
        "for nAlterar in range(0,896):\n",
        "  if tabela.iloc[nAlterar]['hdd']=='0 GB':\n",
        "    tabela.iat[nAlterar,8]=0\n",
        "  if tabela.iloc[nAlterar]['hdd']=='1024 GB':\n",
        "    tabela.iat[nAlterar,8]=1024\n",
        "  if tabela.iloc[nAlterar]['hdd']=='512 GB':\n",
        "    tabela.iat[nAlterar,8]=512\n",
        "  if tabela.iloc[nAlterar]['hdd']=='2048 GB':\n",
        "    tabela.iat[nAlterar,8]=2048"
      ],
      "metadata": {
        "id": "0b6fyCLqs18q"
      },
      "execution_count": null,
      "outputs": []
    },
    {
      "cell_type": "code",
      "source": [
        "tabela['hdd'].value_counts()"
      ],
      "metadata": {
        "colab": {
          "base_uri": "https://localhost:8080/"
        },
        "id": "tF5OQE5stSW9",
        "outputId": "059deeee-03bb-4c64-ab06-5480db9a8401"
      },
      "execution_count": null,
      "outputs": [
        {
          "output_type": "execute_result",
          "data": {
            "text/plain": [
              "0       666\n",
              "1024    164\n",
              "512      65\n",
              "2048      1\n",
              "Name: hdd, dtype: int64"
            ]
          },
          "metadata": {},
          "execution_count": 2457
        }
      ]
    },
    {
      "cell_type": "markdown",
      "source": [
        "convertendo para inteiro"
      ],
      "metadata": {
        "id": "_B_a5vzu9QKC"
      }
    },
    {
      "cell_type": "code",
      "source": [
        "tabela['hdd']= pd.to_numeric(tabela[\"hdd\"])"
      ],
      "metadata": {
        "id": "V5LmH96DtVOQ"
      },
      "execution_count": null,
      "outputs": []
    },
    {
      "cell_type": "markdown",
      "source": [
        "Mudando os valores da coluna os_bit para inteiro"
      ],
      "metadata": {
        "id": "7nYRC9Y8AOrD"
      }
    },
    {
      "cell_type": "code",
      "source": [
        "tabela=tabela.replace(['64-bit'], 64)"
      ],
      "metadata": {
        "id": "RM6UN3YfARO7"
      },
      "execution_count": null,
      "outputs": []
    },
    {
      "cell_type": "code",
      "source": [
        "tabela=tabela.replace(['32-bit'], 32)"
      ],
      "metadata": {
        "id": "mreAmExHAqiU"
      },
      "execution_count": null,
      "outputs": []
    },
    {
      "cell_type": "code",
      "source": [
        "tabela['os_bit']= pd.to_numeric(tabela[\"os_bit\"])"
      ],
      "metadata": {
        "id": "WdWayNkPA047"
      },
      "execution_count": null,
      "outputs": []
    },
    {
      "cell_type": "markdown",
      "source": [
        "Mudando os valores yes e no para 1 e 0"
      ],
      "metadata": {
        "id": "ZPn8KRbfBhMq"
      }
    },
    {
      "cell_type": "code",
      "source": [
        "tabela=tabela.replace(['Yes'], 1)"
      ],
      "metadata": {
        "id": "KHoFKk-6BlkH"
      },
      "execution_count": null,
      "outputs": []
    },
    {
      "cell_type": "code",
      "source": [
        "tabela=tabela.replace(['No'], 0)"
      ],
      "metadata": {
        "id": "AM3W8B4EBtWh"
      },
      "execution_count": null,
      "outputs": []
    },
    {
      "cell_type": "markdown",
      "source": [
        "Convertendo as colunas que tem esses valores para inteiro"
      ],
      "metadata": {
        "id": "zasi23FrBzk6"
      }
    },
    {
      "cell_type": "code",
      "source": [
        "tabela['Touchscreen']= pd.to_numeric(tabela[\"Touchscreen\"])"
      ],
      "metadata": {
        "id": "q5PLXTmxB2IN"
      },
      "execution_count": null,
      "outputs": []
    },
    {
      "cell_type": "code",
      "source": [
        "tabela['msoffice']= pd.to_numeric(tabela[\"msoffice\"])"
      ],
      "metadata": {
        "id": "ms-h1YxqB7hp"
      },
      "execution_count": null,
      "outputs": []
    },
    {
      "cell_type": "markdown",
      "source": [
        "A coluna brand nao vai ser muito util para o treinamento por isso vai ser eliminada"
      ],
      "metadata": {
        "id": "pIn8qOGuygVO"
      }
    },
    {
      "cell_type": "code",
      "source": [
        "tabela=tabela.drop('brand',axis=1)"
      ],
      "metadata": {
        "id": "bnWD6tusyIdG"
      },
      "execution_count": null,
      "outputs": []
    },
    {
      "cell_type": "markdown",
      "source": [
        "A coluna model tem apenas o nome do aparelho e nao vai ser muito util para o treinamento, alem de possuir 95 valores faltando, por isso vai ser eliminada"
      ],
      "metadata": {
        "id": "0SpWI1qs0zzR"
      }
    },
    {
      "cell_type": "code",
      "source": [
        "tabela=tabela.drop('model',axis=1)"
      ],
      "metadata": {
        "id": "GvuCwqB108JQ"
      },
      "execution_count": null,
      "outputs": []
    },
    {
      "cell_type": "markdown",
      "source": [
        "A coluna display size tem apenas o tamanho da tela aparelho com uma variacao bem pequena e nao vai ser muito util para o treinamento, alem de possuir 332 valores faltando, por isso vai ser eliminada"
      ],
      "metadata": {
        "id": "OMl4iOen1R9p"
      }
    },
    {
      "cell_type": "code",
      "source": [
        "tabela=tabela.drop('display_size',axis=1)"
      ],
      "metadata": {
        "id": "i864RRtR1jPz"
      },
      "execution_count": null,
      "outputs": []
    },
    {
      "cell_type": "markdown",
      "source": [
        "A coluna os nao vai agregar muito ao treinamento por isso vai ser eliminada"
      ],
      "metadata": {
        "id": "bXmBj4qD2yD-"
      }
    },
    {
      "cell_type": "code",
      "source": [
        "tabela=tabela.drop('os',axis=1)"
      ],
      "metadata": {
        "id": "attkUFuP219o"
      },
      "execution_count": null,
      "outputs": []
    },
    {
      "cell_type": "code",
      "source": [
        "tabela.info()"
      ],
      "metadata": {
        "colab": {
          "base_uri": "https://localhost:8080/"
        },
        "id": "Q9ZT7wRI9UUw",
        "outputId": "d3c019a5-8f34-4fa0-f523-eb8830b3f275"
      },
      "execution_count": null,
      "outputs": [
        {
          "output_type": "stream",
          "name": "stdout",
          "text": [
            "<class 'pandas.core.frame.DataFrame'>\n",
            "RangeIndex: 896 entries, 0 to 895\n",
            "Data columns (total 19 columns):\n",
            " #   Column           Non-Null Count  Dtype  \n",
            "---  ------           --------------  -----  \n",
            " 0   processor_brand  896 non-null    object \n",
            " 1   processor_name   896 non-null    object \n",
            " 2   processor_gnrtn  896 non-null    int64  \n",
            " 3   ram_gb           896 non-null    int64  \n",
            " 4   ram_type         896 non-null    object \n",
            " 5   ssd              896 non-null    int64  \n",
            " 6   hdd              896 non-null    int64  \n",
            " 7   os_bit           896 non-null    int64  \n",
            " 8   graphic_card_gb  896 non-null    int64  \n",
            " 9   weight           896 non-null    object \n",
            " 10  warranty         896 non-null    int64  \n",
            " 11  Touchscreen      896 non-null    int64  \n",
            " 12  msoffice         896 non-null    int64  \n",
            " 13  latest_price     896 non-null    int64  \n",
            " 14  old_price        896 non-null    int64  \n",
            " 15  discount         896 non-null    int64  \n",
            " 16  star_rating      896 non-null    float64\n",
            " 17  ratings          896 non-null    int64  \n",
            " 18  reviews          896 non-null    int64  \n",
            "dtypes: float64(1), int64(14), object(4)\n",
            "memory usage: 133.1+ KB\n"
          ]
        }
      ]
    },
    {
      "cell_type": "markdown",
      "source": [
        "Tirando outros categoricos"
      ],
      "metadata": {
        "id": "D6Nr-RwPiIZk"
      }
    },
    {
      "cell_type": "code",
      "source": [
        "tabela=tabela.drop('processor_brand',axis=1)"
      ],
      "metadata": {
        "id": "iUbSEnDkiKil"
      },
      "execution_count": null,
      "outputs": []
    },
    {
      "cell_type": "code",
      "source": [
        "tabela=tabela.drop('processor_name',axis=1)"
      ],
      "metadata": {
        "id": "s9Vd1EU_iPSz"
      },
      "execution_count": null,
      "outputs": []
    },
    {
      "cell_type": "code",
      "source": [
        "tabela=tabela.drop('ram_type',axis=1)"
      ],
      "metadata": {
        "id": "Fsie0MapiQfb"
      },
      "execution_count": null,
      "outputs": []
    },
    {
      "cell_type": "code",
      "source": [
        "tabela=tabela.drop('weight',axis=1)"
      ],
      "metadata": {
        "id": "dDycfO1JiQ5-"
      },
      "execution_count": null,
      "outputs": []
    },
    {
      "cell_type": "code",
      "source": [
        "tabela.info()"
      ],
      "metadata": {
        "colab": {
          "base_uri": "https://localhost:8080/"
        },
        "id": "EI1Rh-Vria2e",
        "outputId": "84058ff5-43d1-4cd2-d5e4-5d1d8f519c14"
      },
      "execution_count": null,
      "outputs": [
        {
          "output_type": "stream",
          "name": "stdout",
          "text": [
            "<class 'pandas.core.frame.DataFrame'>\n",
            "RangeIndex: 896 entries, 0 to 895\n",
            "Data columns (total 15 columns):\n",
            " #   Column           Non-Null Count  Dtype  \n",
            "---  ------           --------------  -----  \n",
            " 0   processor_gnrtn  896 non-null    int64  \n",
            " 1   ram_gb           896 non-null    int64  \n",
            " 2   ssd              896 non-null    int64  \n",
            " 3   hdd              896 non-null    int64  \n",
            " 4   os_bit           896 non-null    int64  \n",
            " 5   graphic_card_gb  896 non-null    int64  \n",
            " 6   warranty         896 non-null    int64  \n",
            " 7   Touchscreen      896 non-null    int64  \n",
            " 8   msoffice         896 non-null    int64  \n",
            " 9   latest_price     896 non-null    int64  \n",
            " 10  old_price        896 non-null    int64  \n",
            " 11  discount         896 non-null    int64  \n",
            " 12  star_rating      896 non-null    float64\n",
            " 13  ratings          896 non-null    int64  \n",
            " 14  reviews          896 non-null    int64  \n",
            "dtypes: float64(1), int64(14)\n",
            "memory usage: 105.1 KB\n"
          ]
        }
      ]
    },
    {
      "cell_type": "markdown",
      "source": [
        "Resolvendo os valores de old_price que estao como 0"
      ],
      "metadata": {
        "id": "5kGaeZjrcQTo"
      }
    },
    {
      "cell_type": "code",
      "source": [
        "old_zero=tabela[tabela['old_price']==0]"
      ],
      "metadata": {
        "id": "v476rS3scVZG"
      },
      "execution_count": null,
      "outputs": []
    },
    {
      "cell_type": "code",
      "source": [
        "old_zero.info()"
      ],
      "metadata": {
        "colab": {
          "base_uri": "https://localhost:8080/"
        },
        "id": "owQQL8TG1FU9",
        "outputId": "1921d8d6-1d77-46cd-df80-f1212e60d952"
      },
      "execution_count": null,
      "outputs": [
        {
          "output_type": "stream",
          "name": "stdout",
          "text": [
            "<class 'pandas.core.frame.DataFrame'>\n",
            "Int64Index: 51 entries, 7 to 893\n",
            "Data columns (total 15 columns):\n",
            " #   Column           Non-Null Count  Dtype  \n",
            "---  ------           --------------  -----  \n",
            " 0   processor_gnrtn  51 non-null     int64  \n",
            " 1   ram_gb           51 non-null     int64  \n",
            " 2   ssd              51 non-null     int64  \n",
            " 3   hdd              51 non-null     int64  \n",
            " 4   os_bit           51 non-null     int64  \n",
            " 5   graphic_card_gb  51 non-null     int64  \n",
            " 6   warranty         51 non-null     int64  \n",
            " 7   Touchscreen      51 non-null     int64  \n",
            " 8   msoffice         51 non-null     int64  \n",
            " 9   latest_price     51 non-null     int64  \n",
            " 10  old_price        51 non-null     int64  \n",
            " 11  discount         51 non-null     int64  \n",
            " 12  star_rating      51 non-null     float64\n",
            " 13  ratings          51 non-null     int64  \n",
            " 14  reviews          51 non-null     int64  \n",
            "dtypes: float64(1), int64(14)\n",
            "memory usage: 6.4 KB\n"
          ]
        }
      ]
    },
    {
      "cell_type": "markdown",
      "source": [
        "foi identificado que old_price possui 51 valores que sao iguais a zero, e que vao atrapahar no treinamento, por isso devem ser tratados"
      ],
      "metadata": {
        "id": "0jzjJElT1OWJ"
      }
    },
    {
      "cell_type": "markdown",
      "source": [
        "Para tratar esses valores foi optado por colocar onde existem valores zero, a media de valores da coluna. Esse metodo foi escolhido pois nao existem muitos dados e por isso nao era interessante eliminar mais dados, entao a media vai ter um impacto menor no aprendizado do que deixar como zero"
      ],
      "metadata": {
        "id": "QBeT6qsW31um"
      }
    },
    {
      "cell_type": "code",
      "source": [
        "tabela['old_price']=tabela['old_price'].replace(0,tabela['old_price'].mean())"
      ],
      "metadata": {
        "id": "nTdjdjTH1Wwd"
      },
      "execution_count": null,
      "outputs": []
    },
    {
      "cell_type": "code",
      "source": [
        "old_zero=tabela[tabela['old_price']==0]"
      ],
      "metadata": {
        "id": "_RiQAuBN3xT3"
      },
      "execution_count": null,
      "outputs": []
    },
    {
      "cell_type": "code",
      "source": [
        "old_zero.info()"
      ],
      "metadata": {
        "colab": {
          "base_uri": "https://localhost:8080/"
        },
        "id": "6V92xJ8v3yuU",
        "outputId": "c9164722-8d9f-4ef3-b740-456217b8c445"
      },
      "execution_count": null,
      "outputs": [
        {
          "output_type": "stream",
          "name": "stdout",
          "text": [
            "<class 'pandas.core.frame.DataFrame'>\n",
            "Int64Index: 0 entries\n",
            "Data columns (total 15 columns):\n",
            " #   Column           Non-Null Count  Dtype  \n",
            "---  ------           --------------  -----  \n",
            " 0   processor_gnrtn  0 non-null      int64  \n",
            " 1   ram_gb           0 non-null      int64  \n",
            " 2   ssd              0 non-null      int64  \n",
            " 3   hdd              0 non-null      int64  \n",
            " 4   os_bit           0 non-null      int64  \n",
            " 5   graphic_card_gb  0 non-null      int64  \n",
            " 6   warranty         0 non-null      int64  \n",
            " 7   Touchscreen      0 non-null      int64  \n",
            " 8   msoffice         0 non-null      int64  \n",
            " 9   latest_price     0 non-null      int64  \n",
            " 10  old_price        0 non-null      float64\n",
            " 11  discount         0 non-null      int64  \n",
            " 12  star_rating      0 non-null      float64\n",
            " 13  ratings          0 non-null      int64  \n",
            " 14  reviews          0 non-null      int64  \n",
            "dtypes: float64(2), int64(13)\n",
            "memory usage: 0.0 bytes\n"
          ]
        }
      ]
    },
    {
      "cell_type": "markdown",
      "source": [
        "Nessa etapa foram tratados os problemas identificados nos dados, como dados ausentes, dados categoricos que foram transformados em numericos, e tambem colunas que nao seriam uteis para o treinamento e/ou tinham problemas nos dados eque por isso foram eliminadas"
      ],
      "metadata": {
        "id": "waqKxn9B40X8"
      }
    },
    {
      "cell_type": "code",
      "source": [
        "tabela.to_csv('Dados_tratados_final_notebooks.csv', index=False)"
      ],
      "metadata": {
        "id": "4thPQWN13AxM"
      },
      "execution_count": null,
      "outputs": []
    },
    {
      "cell_type": "markdown",
      "source": [
        "##CRIANDO UM CONJUNTO DE TESTE"
      ],
      "metadata": {
        "id": "4O7ZW0D4mJ7Q"
      }
    },
    {
      "cell_type": "markdown",
      "source": [
        "Usando Funções do Scikit-Learn para dividir o conjunto de dados com amostragem aleatória"
      ],
      "metadata": {
        "id": "0b9AbOsUmVIk"
      }
    },
    {
      "cell_type": "code",
      "source": [
        "from sklearn.model_selection import train_test_split\n",
        "train_set, test_set = train_test_split(tabela, test_size=0.2, random_state=42)\n",
        "test_set.head()"
      ],
      "metadata": {
        "colab": {
          "base_uri": "https://localhost:8080/",
          "height": 270
        },
        "id": "Y686SIx3mXHE",
        "outputId": "98b92b94-3272-44a7-89e3-4ace4c701d0d"
      },
      "execution_count": null,
      "outputs": [
        {
          "output_type": "execute_result",
          "data": {
            "text/plain": [
              "     processor_gnrtn  ram_gb  ssd   hdd  os_bit  graphic_card_gb  warranty  \\\n",
              "711                9       4  512     0      64                0         0   \n",
              "440               11      16  512     0      64                4         1   \n",
              "525               10      16  512     0      64                0         1   \n",
              "722                9       4    0  1024      64                0         0   \n",
              "39                11       8  256     0      64                0         1   \n",
              "\n",
              "     Touchscreen  msoffice  latest_price  old_price  discount  star_rating  \\\n",
              "711            0         0         34990    42999.0        18          0.0   \n",
              "440            0         1        100990   113000.0        10          0.0   \n",
              "525            0         0         57990    80990.0        28          4.3   \n",
              "722            0         0         34990    36923.0         5          3.3   \n",
              "39             0         1         39990    50085.0        20          4.2   \n",
              "\n",
              "     ratings  reviews  \n",
              "711        0        0  \n",
              "440        0        0  \n",
              "525       76        9  \n",
              "722       38        6  \n",
              "39       273       30  "
            ],
            "text/html": [
              "\n",
              "  <div id=\"df-4a6a9ff7-18e4-4811-b1ed-b6e61a0aa057\">\n",
              "    <div class=\"colab-df-container\">\n",
              "      <div>\n",
              "<style scoped>\n",
              "    .dataframe tbody tr th:only-of-type {\n",
              "        vertical-align: middle;\n",
              "    }\n",
              "\n",
              "    .dataframe tbody tr th {\n",
              "        vertical-align: top;\n",
              "    }\n",
              "\n",
              "    .dataframe thead th {\n",
              "        text-align: right;\n",
              "    }\n",
              "</style>\n",
              "<table border=\"1\" class=\"dataframe\">\n",
              "  <thead>\n",
              "    <tr style=\"text-align: right;\">\n",
              "      <th></th>\n",
              "      <th>processor_gnrtn</th>\n",
              "      <th>ram_gb</th>\n",
              "      <th>ssd</th>\n",
              "      <th>hdd</th>\n",
              "      <th>os_bit</th>\n",
              "      <th>graphic_card_gb</th>\n",
              "      <th>warranty</th>\n",
              "      <th>Touchscreen</th>\n",
              "      <th>msoffice</th>\n",
              "      <th>latest_price</th>\n",
              "      <th>old_price</th>\n",
              "      <th>discount</th>\n",
              "      <th>star_rating</th>\n",
              "      <th>ratings</th>\n",
              "      <th>reviews</th>\n",
              "    </tr>\n",
              "  </thead>\n",
              "  <tbody>\n",
              "    <tr>\n",
              "      <th>711</th>\n",
              "      <td>9</td>\n",
              "      <td>4</td>\n",
              "      <td>512</td>\n",
              "      <td>0</td>\n",
              "      <td>64</td>\n",
              "      <td>0</td>\n",
              "      <td>0</td>\n",
              "      <td>0</td>\n",
              "      <td>0</td>\n",
              "      <td>34990</td>\n",
              "      <td>42999.0</td>\n",
              "      <td>18</td>\n",
              "      <td>0.0</td>\n",
              "      <td>0</td>\n",
              "      <td>0</td>\n",
              "    </tr>\n",
              "    <tr>\n",
              "      <th>440</th>\n",
              "      <td>11</td>\n",
              "      <td>16</td>\n",
              "      <td>512</td>\n",
              "      <td>0</td>\n",
              "      <td>64</td>\n",
              "      <td>4</td>\n",
              "      <td>1</td>\n",
              "      <td>0</td>\n",
              "      <td>1</td>\n",
              "      <td>100990</td>\n",
              "      <td>113000.0</td>\n",
              "      <td>10</td>\n",
              "      <td>0.0</td>\n",
              "      <td>0</td>\n",
              "      <td>0</td>\n",
              "    </tr>\n",
              "    <tr>\n",
              "      <th>525</th>\n",
              "      <td>10</td>\n",
              "      <td>16</td>\n",
              "      <td>512</td>\n",
              "      <td>0</td>\n",
              "      <td>64</td>\n",
              "      <td>0</td>\n",
              "      <td>1</td>\n",
              "      <td>0</td>\n",
              "      <td>0</td>\n",
              "      <td>57990</td>\n",
              "      <td>80990.0</td>\n",
              "      <td>28</td>\n",
              "      <td>4.3</td>\n",
              "      <td>76</td>\n",
              "      <td>9</td>\n",
              "    </tr>\n",
              "    <tr>\n",
              "      <th>722</th>\n",
              "      <td>9</td>\n",
              "      <td>4</td>\n",
              "      <td>0</td>\n",
              "      <td>1024</td>\n",
              "      <td>64</td>\n",
              "      <td>0</td>\n",
              "      <td>0</td>\n",
              "      <td>0</td>\n",
              "      <td>0</td>\n",
              "      <td>34990</td>\n",
              "      <td>36923.0</td>\n",
              "      <td>5</td>\n",
              "      <td>3.3</td>\n",
              "      <td>38</td>\n",
              "      <td>6</td>\n",
              "    </tr>\n",
              "    <tr>\n",
              "      <th>39</th>\n",
              "      <td>11</td>\n",
              "      <td>8</td>\n",
              "      <td>256</td>\n",
              "      <td>0</td>\n",
              "      <td>64</td>\n",
              "      <td>0</td>\n",
              "      <td>1</td>\n",
              "      <td>0</td>\n",
              "      <td>1</td>\n",
              "      <td>39990</td>\n",
              "      <td>50085.0</td>\n",
              "      <td>20</td>\n",
              "      <td>4.2</td>\n",
              "      <td>273</td>\n",
              "      <td>30</td>\n",
              "    </tr>\n",
              "  </tbody>\n",
              "</table>\n",
              "</div>\n",
              "      <button class=\"colab-df-convert\" onclick=\"convertToInteractive('df-4a6a9ff7-18e4-4811-b1ed-b6e61a0aa057')\"\n",
              "              title=\"Convert this dataframe to an interactive table.\"\n",
              "              style=\"display:none;\">\n",
              "        \n",
              "  <svg xmlns=\"http://www.w3.org/2000/svg\" height=\"24px\"viewBox=\"0 0 24 24\"\n",
              "       width=\"24px\">\n",
              "    <path d=\"M0 0h24v24H0V0z\" fill=\"none\"/>\n",
              "    <path d=\"M18.56 5.44l.94 2.06.94-2.06 2.06-.94-2.06-.94-.94-2.06-.94 2.06-2.06.94zm-11 1L8.5 8.5l.94-2.06 2.06-.94-2.06-.94L8.5 2.5l-.94 2.06-2.06.94zm10 10l.94 2.06.94-2.06 2.06-.94-2.06-.94-.94-2.06-.94 2.06-2.06.94z\"/><path d=\"M17.41 7.96l-1.37-1.37c-.4-.4-.92-.59-1.43-.59-.52 0-1.04.2-1.43.59L10.3 9.45l-7.72 7.72c-.78.78-.78 2.05 0 2.83L4 21.41c.39.39.9.59 1.41.59.51 0 1.02-.2 1.41-.59l7.78-7.78 2.81-2.81c.8-.78.8-2.07 0-2.86zM5.41 20L4 18.59l7.72-7.72 1.47 1.35L5.41 20z\"/>\n",
              "  </svg>\n",
              "      </button>\n",
              "      \n",
              "  <style>\n",
              "    .colab-df-container {\n",
              "      display:flex;\n",
              "      flex-wrap:wrap;\n",
              "      gap: 12px;\n",
              "    }\n",
              "\n",
              "    .colab-df-convert {\n",
              "      background-color: #E8F0FE;\n",
              "      border: none;\n",
              "      border-radius: 50%;\n",
              "      cursor: pointer;\n",
              "      display: none;\n",
              "      fill: #1967D2;\n",
              "      height: 32px;\n",
              "      padding: 0 0 0 0;\n",
              "      width: 32px;\n",
              "    }\n",
              "\n",
              "    .colab-df-convert:hover {\n",
              "      background-color: #E2EBFA;\n",
              "      box-shadow: 0px 1px 2px rgba(60, 64, 67, 0.3), 0px 1px 3px 1px rgba(60, 64, 67, 0.15);\n",
              "      fill: #174EA6;\n",
              "    }\n",
              "\n",
              "    [theme=dark] .colab-df-convert {\n",
              "      background-color: #3B4455;\n",
              "      fill: #D2E3FC;\n",
              "    }\n",
              "\n",
              "    [theme=dark] .colab-df-convert:hover {\n",
              "      background-color: #434B5C;\n",
              "      box-shadow: 0px 1px 3px 1px rgba(0, 0, 0, 0.15);\n",
              "      filter: drop-shadow(0px 1px 2px rgba(0, 0, 0, 0.3));\n",
              "      fill: #FFFFFF;\n",
              "    }\n",
              "  </style>\n",
              "\n",
              "      <script>\n",
              "        const buttonEl =\n",
              "          document.querySelector('#df-4a6a9ff7-18e4-4811-b1ed-b6e61a0aa057 button.colab-df-convert');\n",
              "        buttonEl.style.display =\n",
              "          google.colab.kernel.accessAllowed ? 'block' : 'none';\n",
              "\n",
              "        async function convertToInteractive(key) {\n",
              "          const element = document.querySelector('#df-4a6a9ff7-18e4-4811-b1ed-b6e61a0aa057');\n",
              "          const dataTable =\n",
              "            await google.colab.kernel.invokeFunction('convertToInteractive',\n",
              "                                                     [key], {});\n",
              "          if (!dataTable) return;\n",
              "\n",
              "          const docLinkHtml = 'Like what you see? Visit the ' +\n",
              "            '<a target=\"_blank\" href=https://colab.research.google.com/notebooks/data_table.ipynb>data table notebook</a>'\n",
              "            + ' to learn more about interactive tables.';\n",
              "          element.innerHTML = '';\n",
              "          dataTable['output_type'] = 'display_data';\n",
              "          await google.colab.output.renderOutput(dataTable, element);\n",
              "          const docLink = document.createElement('div');\n",
              "          docLink.innerHTML = docLinkHtml;\n",
              "          element.appendChild(docLink);\n",
              "        }\n",
              "      </script>\n",
              "    </div>\n",
              "  </div>\n",
              "  "
            ]
          },
          "metadata": {},
          "execution_count": 2482
        }
      ]
    },
    {
      "cell_type": "code",
      "source": [
        "tabela[\"old_price\"].hist()"
      ],
      "metadata": {
        "colab": {
          "base_uri": "https://localhost:8080/",
          "height": 285
        },
        "id": "g64MBYIdmY02",
        "outputId": "fcb64ce0-83ec-4581-e297-0c6a9e7f1d3a"
      },
      "execution_count": null,
      "outputs": [
        {
          "output_type": "execute_result",
          "data": {
            "text/plain": [
              "<matplotlib.axes._subplots.AxesSubplot at 0x7f7ce1530750>"
            ]
          },
          "metadata": {},
          "execution_count": 2483
        },
        {
          "output_type": "display_data",
          "data": {
            "text/plain": [
              "<Figure size 432x288 with 1 Axes>"
            ],
            "image/png": "[encoded data removed]"
          },
          "metadata": {
            "needs_background": "light"
          }
        }
      ]
    },
    {
      "cell_type": "code",
      "source": [
        "tabela[\"preco_antigo\"] = pd.cut(tabela[\"old_price\"],\n",
        "                                bins=[-1, 50000.5, 70000.0, 100000.5, 200000., np.inf],\n",
        "                                labels=[1, 2, 3, 4, 5])\n",
        "tabela[\"preco_antigo\"].value_counts()"
      ],
      "metadata": {
        "colab": {
          "base_uri": "https://localhost:8080/"
        },
        "id": "tyL_V8v5mbRV",
        "outputId": "ed2fdc76-ee5c-4ca1-f588-8e97a7bd80b1"
      },
      "execution_count": null,
      "outputs": [
        {
          "output_type": "execute_result",
          "data": {
            "text/plain": [
              "3    285\n",
              "4    240\n",
              "2    208\n",
              "1    127\n",
              "5     36\n",
              "Name: preco_antigo, dtype: int64"
            ]
          },
          "metadata": {},
          "execution_count": 2484
        }
      ]
    },
    {
      "cell_type": "code",
      "source": [
        "tabela[\"preco_antigo\"].hist()"
      ],
      "metadata": {
        "colab": {
          "base_uri": "https://localhost:8080/",
          "height": 285
        },
        "id": "annPo4BUmcqx",
        "outputId": "0af2d153-5739-4d75-90ab-cf5eeda3bee2"
      },
      "execution_count": null,
      "outputs": [
        {
          "output_type": "execute_result",
          "data": {
            "text/plain": [
              "<matplotlib.axes._subplots.AxesSubplot at 0x7f7ce17c0850>"
            ]
          },
          "metadata": {},
          "execution_count": 2485
        },
        {
          "output_type": "display_data",
          "data": {
            "text/plain": [
              "<Figure size 432x288 with 1 Axes>"
            ],
            "image/png": "[encoded data removed]"
          },
          "metadata": {
            "needs_background": "light"
          }
        }
      ]
    },
    {
      "cell_type": "markdown",
      "source": [
        "O preco antigo foi considerado um atributo muito importante para a analise, e sera muito relevante para as previsoes, por isso vamos garantir que o conjunto de teste seja representativo, das varias categorias de preco"
      ],
      "metadata": {
        "id": "tNaeeWYGmeIr"
      }
    },
    {
      "cell_type": "code",
      "source": [
        "from sklearn.model_selection import StratifiedShuffleSplit\n",
        "\n",
        "split = StratifiedShuffleSplit(n_splits=1, test_size=0.2, random_state=42)\n",
        "\n",
        "for train_index, test_index in split.split(tabela, tabela[\"preco_antigo\"]):\n",
        "  strat_train_set = tabela.loc[train_index]\n",
        "  strat_test_set = tabela.loc[test_index]"
      ],
      "metadata": {
        "id": "dcdJwB-gmfbq"
      },
      "execution_count": null,
      "outputs": []
    },
    {
      "cell_type": "markdown",
      "source": [
        "Agora vamos comprar as proporcoes da categoria de precos antigos no conjunto gerado com a amostragem estratificada e no conjunto completo de dados. O objetivo e garantir que o conjunto de teste esta com a mesma proporcao"
      ],
      "metadata": {
        "id": "1xMkT4AHmhh2"
      }
    },
    {
      "cell_type": "code",
      "source": [
        "strat_test_set[\"preco_antigo\"].value_counts() / len(strat_test_set)"
      ],
      "metadata": {
        "colab": {
          "base_uri": "https://localhost:8080/"
        },
        "id": "2pekgPXJmi-R",
        "outputId": "b17e1967-6130-4bf6-fad6-b3e31bbe94d8"
      },
      "execution_count": null,
      "outputs": [
        {
          "output_type": "execute_result",
          "data": {
            "text/plain": [
              "3    0.316667\n",
              "4    0.266667\n",
              "2    0.233333\n",
              "1    0.144444\n",
              "5    0.038889\n",
              "Name: preco_antigo, dtype: float64"
            ]
          },
          "metadata": {},
          "execution_count": 2487
        }
      ]
    },
    {
      "cell_type": "code",
      "source": [
        "tabela[\"preco_antigo\"].value_counts() / len(tabela)"
      ],
      "metadata": {
        "colab": {
          "base_uri": "https://localhost:8080/"
        },
        "id": "fapEHusKmkRW",
        "outputId": "d2e6fc41-5998-479d-8973-cc9254d1f719"
      },
      "execution_count": null,
      "outputs": [
        {
          "output_type": "execute_result",
          "data": {
            "text/plain": [
              "3    0.318080\n",
              "4    0.267857\n",
              "2    0.232143\n",
              "1    0.141741\n",
              "5    0.040179\n",
              "Name: preco_antigo, dtype: float64"
            ]
          },
          "metadata": {},
          "execution_count": 2488
        }
      ]
    },
    {
      "cell_type": "code",
      "source": [
        "def preco_antigo_proportions(data):\n",
        "  return data[\"preco_antigo\"].value_counts() / len(data)\n",
        "train_set, test_set = train_test_split(tabela, test_size=0.2, random_state=42)\n",
        "\n",
        "# Criando a tabela de comparação de Viés de Amostragem\n",
        "\n",
        "compare_props = pd.DataFrame({\n",
        "  \"Overall\": preco_antigo_proportions(tabela),\n",
        "  \"Stratified\": preco_antigo_proportions(strat_test_set),\n",
        "  \"Random\": preco_antigo_proportions(test_set),\n",
        "}).sort_index()\n",
        "compare_props[\"Rand. %error\"] = 100 * compare_props[\"Random\"] / compare_props[\"Overall\"] - 100\n",
        "compare_props[\"Strat. %error\"] = 100 * compare_props[\"Stratified\"] / compare_props[\"Overall\"] - 100"
      ],
      "metadata": {
        "id": "cNP0sp7SmmXN"
      },
      "execution_count": null,
      "outputs": []
    },
    {
      "cell_type": "code",
      "source": [
        "# Comparação de viés de amostragem estratificada versus amostragem aleatória\n",
        "compare_props"
      ],
      "metadata": {
        "colab": {
          "base_uri": "https://localhost:8080/",
          "height": 206
        },
        "id": "niEUzmvhmnxR",
        "outputId": "00058fe4-1187-4d2e-8193-926b510febd3"
      },
      "execution_count": null,
      "outputs": [
        {
          "output_type": "execute_result",
          "data": {
            "text/plain": [
              "    Overall  Stratified    Random  Rand. %error  Strat. %error\n",
              "1  0.141741    0.144444  0.133333     -5.931759       1.907262\n",
              "2  0.232143    0.233333  0.188889    -18.632479       0.512821\n",
              "3  0.318080    0.316667  0.355556     11.781676      -0.444444\n",
              "4  0.267857    0.266667  0.283333      5.777778      -0.444444\n",
              "5  0.040179    0.038889  0.038889     -3.209877      -3.209877"
            ],
            "text/html": [
              "\n",
              "  <div id=\"df-a7323004-1d39-4b90-9772-9b90b1d37698\">\n",
              "    <div class=\"colab-df-container\">\n",
              "      <div>\n",
              "<style scoped>\n",
              "    .dataframe tbody tr th:only-of-type {\n",
              "        vertical-align: middle;\n",
              "    }\n",
              "\n",
              "    .dataframe tbody tr th {\n",
              "        vertical-align: top;\n",
              "    }\n",
              "\n",
              "    .dataframe thead th {\n",
              "        text-align: right;\n",
              "    }\n",
              "</style>\n",
              "<table border=\"1\" class=\"dataframe\">\n",
              "  <thead>\n",
              "    <tr style=\"text-align: right;\">\n",
              "      <th></th>\n",
              "      <th>Overall</th>\n",
              "      <th>Stratified</th>\n",
              "      <th>Random</th>\n",
              "      <th>Rand. %error</th>\n",
              "      <th>Strat. %error</th>\n",
              "    </tr>\n",
              "  </thead>\n",
              "  <tbody>\n",
              "    <tr>\n",
              "      <th>1</th>\n",
              "      <td>0.141741</td>\n",
              "      <td>0.144444</td>\n",
              "      <td>0.133333</td>\n",
              "      <td>-5.931759</td>\n",
              "      <td>1.907262</td>\n",
              "    </tr>\n",
              "    <tr>\n",
              "      <th>2</th>\n",
              "      <td>0.232143</td>\n",
              "      <td>0.233333</td>\n",
              "      <td>0.188889</td>\n",
              "      <td>-18.632479</td>\n",
              "      <td>0.512821</td>\n",
              "    </tr>\n",
              "    <tr>\n",
              "      <th>3</th>\n",
              "      <td>0.318080</td>\n",
              "      <td>0.316667</td>\n",
              "      <td>0.355556</td>\n",
              "      <td>11.781676</td>\n",
              "      <td>-0.444444</td>\n",
              "    </tr>\n",
              "    <tr>\n",
              "      <th>4</th>\n",
              "      <td>0.267857</td>\n",
              "      <td>0.266667</td>\n",
              "      <td>0.283333</td>\n",
              "      <td>5.777778</td>\n",
              "      <td>-0.444444</td>\n",
              "    </tr>\n",
              "    <tr>\n",
              "      <th>5</th>\n",
              "      <td>0.040179</td>\n",
              "      <td>0.038889</td>\n",
              "      <td>0.038889</td>\n",
              "      <td>-3.209877</td>\n",
              "      <td>-3.209877</td>\n",
              "    </tr>\n",
              "  </tbody>\n",
              "</table>\n",
              "</div>\n",
              "      <button class=\"colab-df-convert\" onclick=\"convertToInteractive('df-a7323004-1d39-4b90-9772-9b90b1d37698')\"\n",
              "              title=\"Convert this dataframe to an interactive table.\"\n",
              "              style=\"display:none;\">\n",
              "        \n",
              "  <svg xmlns=\"http://www.w3.org/2000/svg\" height=\"24px\"viewBox=\"0 0 24 24\"\n",
              "       width=\"24px\">\n",
              "    <path d=\"M0 0h24v24H0V0z\" fill=\"none\"/>\n",
              "    <path d=\"M18.56 5.44l.94 2.06.94-2.06 2.06-.94-2.06-.94-.94-2.06-.94 2.06-2.06.94zm-11 1L8.5 8.5l.94-2.06 2.06-.94-2.06-.94L8.5 2.5l-.94 2.06-2.06.94zm10 10l.94 2.06.94-2.06 2.06-.94-2.06-.94-.94-2.06-.94 2.06-2.06.94z\"/><path d=\"M17.41 7.96l-1.37-1.37c-.4-.4-.92-.59-1.43-.59-.52 0-1.04.2-1.43.59L10.3 9.45l-7.72 7.72c-.78.78-.78 2.05 0 2.83L4 21.41c.39.39.9.59 1.41.59.51 0 1.02-.2 1.41-.59l7.78-7.78 2.81-2.81c.8-.78.8-2.07 0-2.86zM5.41 20L4 18.59l7.72-7.72 1.47 1.35L5.41 20z\"/>\n",
              "  </svg>\n",
              "      </button>\n",
              "      \n",
              "  <style>\n",
              "    .colab-df-container {\n",
              "      display:flex;\n",
              "      flex-wrap:wrap;\n",
              "      gap: 12px;\n",
              "    }\n",
              "\n",
              "    .colab-df-convert {\n",
              "      background-color: #E8F0FE;\n",
              "      border: none;\n",
              "      border-radius: 50%;\n",
              "      cursor: pointer;\n",
              "      display: none;\n",
              "      fill: #1967D2;\n",
              "      height: 32px;\n",
              "      padding: 0 0 0 0;\n",
              "      width: 32px;\n",
              "    }\n",
              "\n",
              "    .colab-df-convert:hover {\n",
              "      background-color: #E2EBFA;\n",
              "      box-shadow: 0px 1px 2px rgba(60, 64, 67, 0.3), 0px 1px 3px 1px rgba(60, 64, 67, 0.15);\n",
              "      fill: #174EA6;\n",
              "    }\n",
              "\n",
              "    [theme=dark] .colab-df-convert {\n",
              "      background-color: #3B4455;\n",
              "      fill: #D2E3FC;\n",
              "    }\n",
              "\n",
              "    [theme=dark] .colab-df-convert:hover {\n",
              "      background-color: #434B5C;\n",
              "      box-shadow: 0px 1px 3px 1px rgba(0, 0, 0, 0.15);\n",
              "      filter: drop-shadow(0px 1px 2px rgba(0, 0, 0, 0.3));\n",
              "      fill: #FFFFFF;\n",
              "    }\n",
              "  </style>\n",
              "\n",
              "      <script>\n",
              "        const buttonEl =\n",
              "          document.querySelector('#df-a7323004-1d39-4b90-9772-9b90b1d37698 button.colab-df-convert');\n",
              "        buttonEl.style.display =\n",
              "          google.colab.kernel.accessAllowed ? 'block' : 'none';\n",
              "\n",
              "        async function convertToInteractive(key) {\n",
              "          const element = document.querySelector('#df-a7323004-1d39-4b90-9772-9b90b1d37698');\n",
              "          const dataTable =\n",
              "            await google.colab.kernel.invokeFunction('convertToInteractive',\n",
              "                                                     [key], {});\n",
              "          if (!dataTable) return;\n",
              "\n",
              "          const docLinkHtml = 'Like what you see? Visit the ' +\n",
              "            '<a target=\"_blank\" href=https://colab.research.google.com/notebooks/data_table.ipynb>data table notebook</a>'\n",
              "            + ' to learn more about interactive tables.';\n",
              "          element.innerHTML = '';\n",
              "          dataTable['output_type'] = 'display_data';\n",
              "          await google.colab.output.renderOutput(dataTable, element);\n",
              "          const docLink = document.createElement('div');\n",
              "          docLink.innerHTML = docLinkHtml;\n",
              "          element.appendChild(docLink);\n",
              "        }\n",
              "      </script>\n",
              "    </div>\n",
              "  </div>\n",
              "  "
            ]
          },
          "metadata": {},
          "execution_count": 2490
        }
      ]
    },
    {
      "cell_type": "code",
      "source": [
        "# Removendo o atributo preco_antigo para que os dados voltem ao seu estado original, usado para criar o conjunto estratificado, dps elimina\n",
        "for set_ in (strat_train_set, strat_test_set):\n",
        "  set_.drop(\"preco_antigo\", axis=1, inplace=True)"
      ],
      "metadata": {
        "id": "-SOO9B7Rmppt"
      },
      "execution_count": null,
      "outputs": []
    },
    {
      "cell_type": "code",
      "source": [
        "tabela.info()"
      ],
      "metadata": {
        "colab": {
          "base_uri": "https://localhost:8080/"
        },
        "id": "ybfwwWvHsz4f",
        "outputId": "5af229a5-8165-454b-fa62-0f5f35a5ac28"
      },
      "execution_count": null,
      "outputs": [
        {
          "output_type": "stream",
          "name": "stdout",
          "text": [
            "<class 'pandas.core.frame.DataFrame'>\n",
            "RangeIndex: 896 entries, 0 to 895\n",
            "Data columns (total 16 columns):\n",
            " #   Column           Non-Null Count  Dtype   \n",
            "---  ------           --------------  -----   \n",
            " 0   processor_gnrtn  896 non-null    int64   \n",
            " 1   ram_gb           896 non-null    int64   \n",
            " 2   ssd              896 non-null    int64   \n",
            " 3   hdd              896 non-null    int64   \n",
            " 4   os_bit           896 non-null    int64   \n",
            " 5   graphic_card_gb  896 non-null    int64   \n",
            " 6   warranty         896 non-null    int64   \n",
            " 7   Touchscreen      896 non-null    int64   \n",
            " 8   msoffice         896 non-null    int64   \n",
            " 9   latest_price     896 non-null    int64   \n",
            " 10  old_price        896 non-null    float64 \n",
            " 11  discount         896 non-null    int64   \n",
            " 12  star_rating      896 non-null    float64 \n",
            " 13  ratings          896 non-null    int64   \n",
            " 14  reviews          896 non-null    int64   \n",
            " 15  preco_antigo     896 non-null    category\n",
            "dtypes: category(1), float64(2), int64(13)\n",
            "memory usage: 106.2 KB\n"
          ]
        }
      ]
    },
    {
      "cell_type": "code",
      "source": [
        "# Separando os atributos previsores e os rótulos, removendo os rótulos\n",
        "tabela = strat_train_set.drop(\"latest_price\", axis=1)\n",
        "# Criando uma cópia dos rótulos\n",
        "tabela_labels = strat_train_set[\"latest_price\"].copy()"
      ],
      "metadata": {
        "id": "hr9D_TWaxnwN"
      },
      "execution_count": null,
      "outputs": []
    },
    {
      "cell_type": "code",
      "source": [
        "tabela.info()"
      ],
      "metadata": {
        "colab": {
          "base_uri": "https://localhost:8080/"
        },
        "id": "H0ERC90rtOPH",
        "outputId": "b6cbc590-9170-4c97-c138-23e338d063a0"
      },
      "execution_count": null,
      "outputs": [
        {
          "output_type": "stream",
          "name": "stdout",
          "text": [
            "<class 'pandas.core.frame.DataFrame'>\n",
            "Int64Index: 716 entries, 736 to 317\n",
            "Data columns (total 14 columns):\n",
            " #   Column           Non-Null Count  Dtype  \n",
            "---  ------           --------------  -----  \n",
            " 0   processor_gnrtn  716 non-null    int64  \n",
            " 1   ram_gb           716 non-null    int64  \n",
            " 2   ssd              716 non-null    int64  \n",
            " 3   hdd              716 non-null    int64  \n",
            " 4   os_bit           716 non-null    int64  \n",
            " 5   graphic_card_gb  716 non-null    int64  \n",
            " 6   warranty         716 non-null    int64  \n",
            " 7   Touchscreen      716 non-null    int64  \n",
            " 8   msoffice         716 non-null    int64  \n",
            " 9   old_price        716 non-null    float64\n",
            " 10  discount         716 non-null    int64  \n",
            " 11  star_rating      716 non-null    float64\n",
            " 12  ratings          716 non-null    int64  \n",
            " 13  reviews          716 non-null    int64  \n",
            "dtypes: float64(2), int64(12)\n",
            "memory usage: 83.9 KB\n"
          ]
        }
      ]
    },
    {
      "cell_type": "markdown",
      "source": [
        "Nessa etapa foi criado um conjunto de teste utilizando a estratificacao para ter a divisao dos dados"
      ],
      "metadata": {
        "id": "okdMhxXy0NY3"
      }
    },
    {
      "cell_type": "markdown",
      "source": [
        "##Escalonamento de Características"
      ],
      "metadata": {
        "id": "QE92jLXrikuK"
      }
    },
    {
      "cell_type": "markdown",
      "source": [
        "Uma das transformações mais importantes que você precisa aplicar aos seus dados é o redimensionamento de características.\n",
        "Com poucas exceções, os algoritmos de Machine Learning não funcionam bem quando os atributos numéricos de entrada têm escalas muito diferentes.\n"
      ],
      "metadata": {
        "id": "G3F2iOauimAn"
      }
    },
    {
      "cell_type": "markdown",
      "source": [
        "Padronização (escore-z)"
      ],
      "metadata": {
        "id": "Gae6ykbwio6z"
      }
    },
    {
      "cell_type": "markdown",
      "source": [
        "A Cada valor do atributo a ser normalizado é adicionada ou subtraída uma medida de localização (valor médio) e o valor resultante é multiplicado ou dividido por uma medida de escala (desvio padrão).\n",
        "A padronização subtrai o valor médio (portanto, os valores padronizados sempre têm média zero) e depois divide pelo desvio padrão para que a distribuição resultante tenha variância unitária."
      ],
      "metadata": {
        "id": "O1YMpPSGi4rD"
      }
    },
    {
      "cell_type": "markdown",
      "source": [
        "Ao contrário do escalonamento min-max, a padronização não limita valores a um intervalo específico, o que pode ser um problema para alguns algoritmos (por exemplo, redes neurais geralmente esperam um valor de entrada variando de 0 a 1). No entanto, a padronização é muito menos afetada por outliers."
      ],
      "metadata": {
        "id": "BD4eQVugjzBS"
      }
    },
    {
      "cell_type": "code",
      "source": [
        "from sklearn.impute import SimpleImputer #estimador\n",
        "imputer = SimpleImputer(strategy=\"median\")"
      ],
      "metadata": {
        "id": "ef8-RRRWkRdH"
      },
      "execution_count": null,
      "outputs": []
    },
    {
      "cell_type": "code",
      "source": [
        "#importar pipeline\n",
        "from sklearn.pipeline import Pipeline\n",
        "#importar metodo de padronizacao\n",
        "from sklearn.preprocessing import StandardScaler\n",
        "\n",
        "scaler = StandardScaler()\n",
        "\n",
        "# valores ausentes, combinando atributos, escalonamento\n",
        "num_pipeline = Pipeline([\n",
        "    #calcular a media substituir valores ausentes pela media\n",
        "    ('imputer', SimpleImputer(strategy=\"median\")),\n",
        "     #escalonar atributos, padronizar dados numericos\n",
        "    ('std_scaler', StandardScaler()),\n",
        "  ])\n",
        "\n",
        "#treinar e transformar todas as coisas de uma vez so\n",
        "tabela_transform = num_pipeline.fit_transform(tabela)"
      ],
      "metadata": {
        "id": "nGZ6d7lTj07W"
      },
      "execution_count": null,
      "outputs": []
    },
    {
      "cell_type": "code",
      "source": [
        "tabela_transform"
      ],
      "metadata": {
        "colab": {
          "base_uri": "https://localhost:8080/"
        },
        "id": "IW5WrPUAlYjK",
        "outputId": "2f354e3c-3077-43a6-bc47-a02afb6848ca"
      },
      "execution_count": null,
      "outputs": [
        {
          "output_type": "execute_result",
          "data": {
            "text/plain": [
              "array([[-0.92974937, -0.13219668,  0.26739561, ...,  0.7875365 ,\n",
              "        -0.181641  , -0.2258623 ],\n",
              "       [ 1.02531832, -0.13219668, -1.4429808 , ...,  0.43331116,\n",
              "        -0.10083781, -0.13097914],\n",
              "       [ 0.04778448, -0.13219668,  0.26739561, ...,  0.73693288,\n",
              "         3.09310811,  2.42356762],\n",
              "       ...,\n",
              "       [-1.90728321, -0.13219668,  0.26739561, ..., -1.48962638,\n",
              "        -0.32548844, -0.33534288],\n",
              "       [ 0.04778448, -1.06016556, -1.4429808 , ...,  0.5345184 ,\n",
              "         1.3172138 ,  1.24117741],\n",
              "       [ 1.02531832, -0.13219668,  0.26739561, ...,  1.04055459,\n",
              "        -0.3210487 , -0.33534288]])"
            ]
          },
          "metadata": {},
          "execution_count": 2497
        }
      ]
    },
    {
      "cell_type": "markdown",
      "source": [
        "##Construcao e treinamento de modelos"
      ],
      "metadata": {
        "id": "vHFtjDP15-nV"
      }
    },
    {
      "cell_type": "markdown",
      "source": [
        "**Treinando e Avaliando o Conjunto de Treinamento com o modelo de Regressão Linear**"
      ],
      "metadata": {
        "id": "JaDeLfWJ6Ay7"
      }
    },
    {
      "cell_type": "code",
      "source": [
        "# Treinando o modelo de Regressão Linear\n",
        "#Pegar o modelno de regressao linear\n",
        "from sklearn.linear_model import LinearRegression\n",
        "#criar uma variavel que recebe esse metodo\n",
        "lin_reg = LinearRegression()\n",
        "#passar para a variavel os dados que ja preparei e os rotulos do meu atributo alvo\n",
        "lin_reg.fit(tabela_transform, tabela_labels)"
      ],
      "metadata": {
        "colab": {
          "base_uri": "https://localhost:8080/"
        },
        "id": "XkhhUy0b6BMG",
        "outputId": "9842c2db-fe21-4992-b034-57d4819f7c06"
      },
      "execution_count": null,
      "outputs": [
        {
          "output_type": "execute_result",
          "data": {
            "text/plain": [
              "LinearRegression()"
            ]
          },
          "metadata": {},
          "execution_count": 2498
        }
      ]
    },
    {
      "cell_type": "code",
      "source": [
        "# alguns dados vai em tabela e pega do inicial ate o 5, pegando essa 5 amostras da base de treinamento\n",
        "some_data = tabela.iloc[:5]\n",
        "#pegar os mesmos atributos alvos dos memos\n",
        "some_labels = tabela_labels.iloc[:5]\n",
        "some_data_prepared = num_pipeline.transform(some_data)\n",
        "\n",
        "#imprima predictions chamando o metodo de predicao para esses dados\n",
        "print(\"Predictions:\", lin_reg.predict(some_data_prepared))"
      ],
      "metadata": {
        "colab": {
          "base_uri": "https://localhost:8080/"
        },
        "id": "XxtXxXcs6eX8",
        "outputId": "c581b3fa-e5eb-435a-fdbb-ff30c6515624"
      },
      "execution_count": null,
      "outputs": [
        {
          "output_type": "stream",
          "name": "stdout",
          "text": [
            "Predictions: [50281.42265246 46748.62778593 60340.45364664 87097.92282365\n",
            " 99045.86634208]\n"
          ]
        }
      ]
    },
    {
      "cell_type": "markdown",
      "source": [
        "exibindo e comparando com os valores reais:"
      ],
      "metadata": {
        "id": "62OVq1we7C_k"
      }
    },
    {
      "cell_type": "code",
      "source": [
        "print(\"Labels:\", list(some_labels))"
      ],
      "metadata": {
        "colab": {
          "base_uri": "https://localhost:8080/"
        },
        "id": "A3bvP5yv7FWP",
        "outputId": "dde41030-266b-4ceb-cc86-cef02cc1120c"
      },
      "execution_count": null,
      "outputs": [
        {
          "output_type": "stream",
          "name": "stdout",
          "text": [
            "Labels: [56990, 46990, 65990, 84990, 102990]\n"
          ]
        }
      ]
    },
    {
      "cell_type": "code",
      "source": [
        "some_data_prepared"
      ],
      "metadata": {
        "colab": {
          "base_uri": "https://localhost:8080/"
        },
        "id": "HI_86mAx8-Sa",
        "outputId": "1e4e9cea-7c18-4fcb-ceb5-2f5041da4974"
      },
      "execution_count": null,
      "outputs": [
        {
          "output_type": "execute_result",
          "data": {
            "text/plain": [
              "array([[-0.92974937, -0.13219668,  0.26739561, -0.54904839,  0.41223129,\n",
              "         1.37534044,  0.51531672, -0.36702427,  1.43066716, -0.18141688,\n",
              "         1.29467968,  0.7875365 , -0.181641  , -0.2258623 ],\n",
              "       [ 1.02531832, -0.13219668, -1.4429808 ,  2.00367011,  0.41223129,\n",
              "        -0.58045649,  0.51531672, -0.36702427, -0.6989746 , -0.71202342,\n",
              "        -0.16132658,  0.43331116, -0.10083781, -0.13097914],\n",
              "       [ 0.04778448, -0.13219668,  0.26739561, -0.54904839,  0.41223129,\n",
              "         1.37534044,  0.51531672, -0.36702427,  1.43066716, -0.06105319,\n",
              "         0.71227718,  0.73693288,  3.09310811,  2.42356762],\n",
              "       [-0.92974937,  1.72374106,  0.26739561, -0.54904839,  0.41223129,\n",
              "         1.37534044,  0.51531672, -0.36702427,  1.43066716,  0.35564195,\n",
              "         0.42107593, -0.07272503, -0.32193665, -0.32074547],\n",
              "       [ 0.04778448, -0.13219668, -1.4429808 ,  0.72731086, -2.42582262,\n",
              "        -0.58045649, -1.1392428 , -0.36702427, -0.6989746 ,  0.92356125,\n",
              "         0.71227718,  0.83814012, -0.25534061, -0.23316101]])"
            ]
          },
          "metadata": {},
          "execution_count": 2501
        }
      ]
    },
    {
      "cell_type": "code",
      "source": [
        "# Avaliando o modelo de Regressão Linear com a raiz do erro médio quadrático\n",
        "from sklearn.metrics import mean_squared_error\n",
        "#pegou o conjunto de dados preparados, fez a predicao e colocou aqui\n",
        "tabela_predictions = lin_reg.predict(tabela_transform)\n",
        "#tirando a raiz do erro metrico quadratico passando tabela labels e o resultado da predicao de todo o conjunto\n",
        "#colocar em lin_mse\n",
        "lin_mse = mean_squared_error(tabela_labels, tabela_predictions)\n",
        "#tirou a raiz quadrada do lin_mse, raiz do erro medio quadratico\n",
        "lin_rmse = np.sqrt(lin_mse)\n",
        "#o resultado eh o erro que ele esta cometendo em reais\n",
        "lin_rmse"
      ],
      "metadata": {
        "colab": {
          "base_uri": "https://localhost:8080/"
        },
        "id": "KnBMD6Wj9gzl",
        "outputId": "5130c889-9ef0-46be-db66-ade98b28c543"
      },
      "execution_count": null,
      "outputs": [
        {
          "output_type": "execute_result",
          "data": {
            "text/plain": [
              "13753.21703039605"
            ]
          },
          "metadata": {},
          "execution_count": 2502
        }
      ]
    },
    {
      "cell_type": "markdown",
      "source": [
        "O erro médio absoluto, MAE (da sigla em inglês Mean Absolute Error), é calculado a partir da média dos erros absolutos, ou seja, utilizamos o módulo de cada erro para evitar a subestimação, isso porque, o valor é menos afetado por pontos especialmente extremos (outliers)."
      ],
      "metadata": {
        "id": "R65L1179COlw"
      }
    },
    {
      "cell_type": "code",
      "source": [
        "# avaliando o erro absoluto médio (MAE), outra metrica de avaliacao\n",
        "from sklearn.metrics import mean_absolute_error\n",
        "lin_mae = mean_absolute_error(tabela_labels, tabela_predictions)\n",
        "lin_mae"
      ],
      "metadata": {
        "colab": {
          "base_uri": "https://localhost:8080/"
        },
        "id": "Ht9NWwAhqYCH",
        "outputId": "9d1cd0e7-a556-4895-f33c-c3c93d9b5169"
      },
      "execution_count": null,
      "outputs": [
        {
          "output_type": "execute_result",
          "data": {
            "text/plain": [
              "6751.845001354269"
            ]
          },
          "metadata": {},
          "execution_count": 2503
        }
      ]
    },
    {
      "cell_type": "markdown",
      "source": [
        "**Avaliando Melhor com a Utilização da Validação Cruzada**"
      ],
      "metadata": {
        "id": "OWRX5vkzqEvg"
      }
    },
    {
      "cell_type": "markdown",
      "source": [
        "Uma maneira de avaliar o modelo de árvore de decisão seria usar a função train_test_split() para dividir o conjunto de treinamento em um conjunto de treinamento menor e um conjunto de validação.\n",
        "Em, seguida, treinar seus modelos em relação ao conjunto de treinamento menor e avaliá-los em relação ao conjunto de validação. É um pouco trabalhoso, mas nada muito difícil, e funcionaria muito bem.\n",
        "Uma ótima alternativa é usar o recurso de validação cruzada K-fold do Scikit-Learn.\n",
        "O código a seguir divide aleatoriamente o conjunto de treinamento em 10 subconjuntos distintos chamados pastas, depois treina e avalia o modelo  10 vezes, escolhendo uma pasta diferente para avaliação a cada vez e treinando nas outras 9 pastas."
      ],
      "metadata": {
        "id": "Hp2Q61g6eEVp"
      }
    },
    {
      "cell_type": "markdown",
      "source": [
        "O resultado é um array contendo as 10 pontuações de avaliação:"
      ],
      "metadata": {
        "id": "WPVQJkZ0eGlj"
      }
    },
    {
      "cell_type": "code",
      "source": [
        "def display_scores(scores):\n",
        "  #score\n",
        "  print(\"Scores:\", scores)\n",
        "  #media ( de erro?)\n",
        "  print(\"Mean:\", scores.mean())\n",
        "  #desvio padrao\n",
        "  print(\"Standard deviation:\", scores.std())"
      ],
      "metadata": {
        "id": "3Iv_xKuisKN6"
      },
      "execution_count": null,
      "outputs": []
    },
    {
      "cell_type": "code",
      "source": [
        "from sklearn.model_selection import cross_val_score\n",
        "# Treinando e Avaliando o modelo de Regressão Linear com Validação Cruzada\n",
        "lin_scores = cross_val_score(lin_reg, tabela_transform, tabela_labels,\n",
        "                              scoring=\"neg_mean_squared_error\", cv=10)\n",
        "lin_rmse_scores = np.sqrt(-lin_scores) # A função de pontuação é o oposto do MSE (-scores),\n",
        "#validacao da acerto e raiz do erro da punicao\n",
        "display_scores(lin_rmse_scores)"
      ],
      "metadata": {
        "colab": {
          "base_uri": "https://localhost:8080/"
        },
        "id": "JQvBh3_Vegg_",
        "outputId": "b388c1e9-a8ea-4f71-e9c8-5a7f0d53e556"
      },
      "execution_count": null,
      "outputs": [
        {
          "output_type": "stream",
          "name": "stdout",
          "text": [
            "Scores: [ 8961.17405919 14483.65791203 17666.46059366  7734.15628987\n",
            " 18521.74676324 13498.05673078 18325.77718196 12008.65027993\n",
            " 18937.54268475  7370.60930785]\n",
            "Mean: 13750.783180325758\n",
            "Standard deviation: 4352.131015663651\n"
          ]
        }
      ]
    },
    {
      "cell_type": "markdown",
      "source": [
        "**Treinando e Avaliando o Conjunto de Treinamento com o modelo de Ávores de Decisão**"
      ],
      "metadata": {
        "id": "ZxSetoCHW7hO"
      }
    },
    {
      "cell_type": "markdown",
      "source": [
        "Vamos treinar um DecisionTreeRegressor. Este é um modelo poderoso, capaz de encontrar relacionamentos não lineares complexos nos dados"
      ],
      "metadata": {
        "id": "uyvi84lTW8TI"
      }
    },
    {
      "cell_type": "code",
      "source": [
        "# Treinando o modelo de Árvore de Decisão\n",
        "from sklearn.tree import DecisionTreeRegressor\n",
        "#variavel, precisa incializar a arvore com uma semente, e um paramentro da prorpia arvore\n",
        "tree_reg = DecisionTreeRegressor(random_state=42)\n",
        "#treina com os dados que preparamos e seus respectivos labels\n",
        "tree_reg.fit(tabela_transform, tabela_labels)"
      ],
      "metadata": {
        "colab": {
          "base_uri": "https://localhost:8080/"
        },
        "id": "EBh2NZ7VXAsh",
        "outputId": "fb07e075-4682-4f34-afd7-1d0e0ca401c0"
      },
      "execution_count": null,
      "outputs": [
        {
          "output_type": "execute_result",
          "data": {
            "text/plain": [
              "DecisionTreeRegressor(random_state=42)"
            ]
          },
          "metadata": {},
          "execution_count": 2506
        }
      ]
    },
    {
      "cell_type": "code",
      "source": [
        "# alguns dados vai em tabela e pega do inicial ate o 5, pegando essa 5 amostras da base de treinamento\n",
        "some_data2= tabela.iloc[:5]\n",
        "\n",
        "#pegar os mesmos atributos alvos dos memos\n",
        "some_labels2 = tabela_labels.iloc[:5]\n",
        "some_data_prepared2 = num_pipeline.transform(some_data2)\n",
        "\n",
        "#imprima predictions\n",
        "print(\"Predictions:\", tree_reg.predict(some_data_prepared2))"
      ],
      "metadata": {
        "colab": {
          "base_uri": "https://localhost:8080/"
        },
        "id": "rxXDXWz5YQom",
        "outputId": "b16ad0bb-4965-494f-ed6d-c05f6a4b25a7"
      },
      "execution_count": null,
      "outputs": [
        {
          "output_type": "stream",
          "name": "stdout",
          "text": [
            "Predictions: [ 56990.  46990.  65990.  84990. 102990.]\n"
          ]
        }
      ]
    },
    {
      "cell_type": "markdown",
      "source": [
        "exibindo e comprando com os valores reais"
      ],
      "metadata": {
        "id": "_0qdYJq6ZCqr"
      }
    },
    {
      "cell_type": "code",
      "source": [
        "print(\"Labels:\", list(some_labels2))"
      ],
      "metadata": {
        "colab": {
          "base_uri": "https://localhost:8080/"
        },
        "id": "g64yr0kCYrep",
        "outputId": "860fe411-ca40-4417-be00-e0d398fe33dd"
      },
      "execution_count": null,
      "outputs": [
        {
          "output_type": "stream",
          "name": "stdout",
          "text": [
            "Labels: [56990, 46990, 65990, 84990, 102990]\n"
          ]
        }
      ]
    },
    {
      "cell_type": "markdown",
      "source": [
        "Os resultados deram exatamente os valores dos labels de primeira, necessita analise"
      ],
      "metadata": {
        "id": "A4Ip7hh8q2gX"
      }
    },
    {
      "cell_type": "code",
      "source": [
        "# avaliando o modelo de Árvore de Decisão com a raiz do erro médio quadrático\n",
        "#passandos os basos preparados para o metodo de predicao de arvorse que estao treinadas\n",
        "tabela_predictions = tree_reg.predict(tabela_transform)\n",
        "#erro medio quadratico passado as etiquetas e os dados preditos\n",
        "tree_mse = mean_squared_error(tabela_labels, tabela_predictions)\n",
        "#tirado a raiz quadrada do mse\n",
        "tree_rmse = np.sqrt(tree_mse)\n",
        "tree_rmse"
      ],
      "metadata": {
        "colab": {
          "base_uri": "https://localhost:8080/"
        },
        "id": "QFny47yEXZIq",
        "outputId": "aadece2f-9275-432d-b4ef-3774c3f4d1ae"
      },
      "execution_count": null,
      "outputs": [
        {
          "output_type": "execute_result",
          "data": {
            "text/plain": [
              "536.3855863152029"
            ]
          },
          "metadata": {},
          "execution_count": 2509
        }
      ]
    },
    {
      "cell_type": "code",
      "source": [
        "# avaliando o erro absoluto médio (MAE), outra metrica de avaliacao\n",
        "from sklearn.metrics import mean_absolute_error\n",
        "tree_mae = mean_absolute_error(tabela_labels, tabela_predictions)\n",
        "tree_mae"
      ],
      "metadata": {
        "colab": {
          "base_uri": "https://localhost:8080/"
        },
        "id": "HWwE2cy7wC7j",
        "outputId": "2562fce7-cc2b-4792-8b01-7edcf68a4b19"
      },
      "execution_count": null,
      "outputs": [
        {
          "output_type": "execute_result",
          "data": {
            "text/plain": [
              "30.726256983240223"
            ]
          },
          "metadata": {},
          "execution_count": 2510
        }
      ]
    },
    {
      "cell_type": "markdown",
      "source": [
        "Observacao: o erro esta muito baixo, e necessario avaliar melhor esse modelo"
      ],
      "metadata": {
        "id": "3PGS4Hc2ZQAD"
      }
    },
    {
      "cell_type": "markdown",
      "source": [
        "**Avaliando Melhor com a Utilização da Validação Cruzada**"
      ],
      "metadata": {
        "id": "O1k81Gf2eCLf"
      }
    },
    {
      "cell_type": "code",
      "source": [
        "# Treinando e Avaliando o modelo Árvore de Decisão com Validação Cruzada\n",
        "                                    # v implementa a validacao cruzada\n",
        "from sklearn.model_selection import cross_val_score\n",
        "#chama o metodo passando a base tree reg que recebe o metodo regressor, os dados preparados, a etiqueta,\n",
        "#o scoring vai ser a raiz do erro medio quadratico e dividir em 10 pastas\n",
        "scores = cross_val_score(tree_reg, tabela_transform, tabela_labels,\n",
        "                          scoring=\"neg_mean_squared_error\", cv=10)\n",
        "#tirar a raiz quadrada, tem q botar negativo, um usa a pontuacao e o outro o erro, e o oposto o - inverte a pontuacao\n",
        "tree_rmse_scores = np.sqrt(-scores) # A função de pontuação é o oposto do MSE (-scores)"
      ],
      "metadata": {
        "id": "1qDf4nkveH_b"
      },
      "execution_count": null,
      "outputs": []
    },
    {
      "cell_type": "code",
      "source": [
        "display_scores(tree_rmse_scores)"
      ],
      "metadata": {
        "colab": {
          "base_uri": "https://localhost:8080/"
        },
        "id": "K929ahRdeXdk",
        "outputId": "5ecc9832-ffd4-4612-ab2c-fe63fa94ce1d"
      },
      "execution_count": null,
      "outputs": [
        {
          "output_type": "stream",
          "name": "stdout",
          "text": [
            "Scores: [14174.87798595 13703.56236582 24785.61130166 20855.87990165\n",
            " 19210.45569873  6956.06821815 12996.96382963 12929.00467232\n",
            " 28128.13680285 11578.02357735]\n",
            "Mean: 16531.858435412698\n",
            "Standard deviation: 6194.651257225492\n"
          ]
        }
      ]
    },
    {
      "cell_type": "markdown",
      "source": [
        "**Treinando e Avaliando o Conjunto de Treinamento com o modelo de Florestas Aleatórias**"
      ],
      "metadata": {
        "id": "ZxJ5IDEwfx_y"
      }
    },
    {
      "cell_type": "markdown",
      "source": [
        "As Florestas Aleatórias funcionam treinando muitas Árvores de Decisão em subconjuntos aleatórios dos recursos e, em seguida, calculando a média de suas previsões.\n",
        "Construir um modelo em cima de muitos outros modelos é chamado de Ensemble Learning e geralmente é uma ótima maneira de impulsionar ainda mais os algoritmos de ML."
      ],
      "metadata": {
        "id": "10Lbo9phf6Av"
      }
    },
    {
      "cell_type": "code",
      "source": [
        "# Treinando o modelo de Florestas Aleatórias\n",
        "from sklearn.ensemble import RandomForestRegressor\n",
        "\n",
        "#variavel que receber o metodo randomforestRegressor com 2 parametros que tem q colocar no inicion, sao 100 arvores e a semente\n",
        "forest_reg = RandomForestRegressor(n_estimators=100, random_state=42)\n",
        "\n",
        "#treina passando os dados preparados e etiquetas do atributo alvo\n",
        "forest_reg.fit(tabela_transform, tabela_labels)"
      ],
      "metadata": {
        "colab": {
          "base_uri": "https://localhost:8080/"
        },
        "id": "8OveypIXnk2r",
        "outputId": "71caba91-7cb1-4a24-833d-a91e62c11620"
      },
      "execution_count": null,
      "outputs": [
        {
          "output_type": "execute_result",
          "data": {
            "text/plain": [
              "RandomForestRegressor(random_state=42)"
            ]
          },
          "metadata": {},
          "execution_count": 2513
        }
      ]
    },
    {
      "cell_type": "code",
      "source": [
        "# alguns dados vai em tabela e pega do inicial ate o 5, pegando essa 5 amostras da base de treinamento\n",
        "some_data3= tabela.iloc[:5]\n",
        "\n",
        "#pegar os mesmos atributos alvos dos memos\n",
        "some_labels3 = tabela_labels.iloc[:5]\n",
        "some_data_prepared3 = num_pipeline.transform(some_data)\n",
        "\n",
        "#imprima predictions\n",
        "print(\"Predictions:\", forest_reg.predict(some_data_prepared3))"
      ],
      "metadata": {
        "colab": {
          "base_uri": "https://localhost:8080/"
        },
        "id": "ksJmEDzx0I6z",
        "outputId": "a41411ea-167a-4599-a875-b233f35301be"
      },
      "execution_count": null,
      "outputs": [
        {
          "output_type": "stream",
          "name": "stdout",
          "text": [
            "Predictions: [ 57335.59  47087.91  66555.88  84896.89 103075.  ]\n"
          ]
        }
      ]
    },
    {
      "cell_type": "markdown",
      "source": [
        "Exibindo e comprando com os valores reais"
      ],
      "metadata": {
        "id": "ZgiQVeY_0uAY"
      }
    },
    {
      "cell_type": "code",
      "source": [
        "print(\"Labels:\", list(some_labels3))"
      ],
      "metadata": {
        "colab": {
          "base_uri": "https://localhost:8080/"
        },
        "id": "FT18Q0om0oXA",
        "outputId": "ef994d79-d9b4-45c1-d128-4feb2c12144f"
      },
      "execution_count": null,
      "outputs": [
        {
          "output_type": "stream",
          "name": "stdout",
          "text": [
            "Labels: [56990, 46990, 65990, 84990, 102990]\n"
          ]
        }
      ]
    },
    {
      "cell_type": "markdown",
      "source": [
        "Nota: especificamos n_estimators=100 para ser à prova de futuro, pois o valor padrão mudará para 100 no Scikit-Learn 0.22."
      ],
      "metadata": {
        "id": "SjSySRbLnufc"
      }
    },
    {
      "cell_type": "code",
      "source": [
        "# Avaliando o modelo de Florestas Aleatórias com a raiz do erro médio quadrático\n",
        "# metodo de predicao passando os dados preparados\n",
        "tabela_predictions = forest_reg.predict(tabela_transform)\n",
        "\n",
        "#chama o erro medio quadratico passando etiqueta e os dados preditos\n",
        "forest_mse = mean_squared_error(tabela_labels, tabela_predictions)\n",
        "\n",
        "#calcular  etirar a raiz quadrada do resultado que veio\n",
        "forest_rmse = np.sqrt(forest_mse)\n",
        "forest_rmse"
      ],
      "metadata": {
        "colab": {
          "base_uri": "https://localhost:8080/"
        },
        "id": "cuSi7oEbnvKL",
        "outputId": "7aca48b8-f697-45aa-aed1-1f79ed2ff07d"
      },
      "execution_count": null,
      "outputs": [
        {
          "output_type": "execute_result",
          "data": {
            "text/plain": [
              "4655.2923908938155"
            ]
          },
          "metadata": {},
          "execution_count": 2516
        }
      ]
    },
    {
      "cell_type": "code",
      "source": [
        "# avaliando o erro absoluto médio (MAE), outra metrica de avaliacao\n",
        "from sklearn.metrics import mean_absolute_error\n",
        "forest_mae = mean_absolute_error(tabela_labels, tabela_predictions)\n",
        "forest_mae"
      ],
      "metadata": {
        "colab": {
          "base_uri": "https://localhost:8080/"
        },
        "id": "gsncYgR4wLJI",
        "outputId": "63d8adb9-3a9f-4c4e-94a1-f9559cb1d024"
      },
      "execution_count": null,
      "outputs": [
        {
          "output_type": "execute_result",
          "data": {
            "text/plain": [
              "1526.0570916467145"
            ]
          },
          "metadata": {},
          "execution_count": 2517
        }
      ]
    },
    {
      "cell_type": "code",
      "source": [
        "# Avaliando o modelo de Florestas Aleatórias com Validação Cruzada\n",
        "from sklearn.model_selection import cross_val_score\n",
        "\n",
        "#crio variavel, passo a varivael que eu carreguei com o metodo, os dados preparados e os dados corretos\n",
        "#digo que e pra fazer com erro medio quadrado e 10 pastas\n",
        "forest_scores = cross_val_score(forest_reg, tabela_transform, tabela_labels,\n",
        "                                scoring=\"neg_mean_squared_error\", cv=10)\n",
        "#dados do cross validation eh o oposto do erro medio, tiro a raiz quadrada e mostro resultado\n",
        "forest_rmse_scores = np.sqrt(-forest_scores)\n",
        "display_scores(forest_rmse_scores)"
      ],
      "metadata": {
        "colab": {
          "base_uri": "https://localhost:8080/"
        },
        "id": "JhpCkPC5oAnA",
        "outputId": "0d9e77cf-0d3e-4689-a79c-3114441dabbe"
      },
      "execution_count": null,
      "outputs": [
        {
          "output_type": "stream",
          "name": "stdout",
          "text": [
            "Scores: [ 3240.167287   10286.58827542 14879.06790203  8359.09164393\n",
            " 18117.04362624  7819.00379655 10065.50386225 11031.57111375\n",
            " 18250.95705613  8407.21359674]\n",
            "Mean: 11045.620816005287\n",
            "Standard deviation: 4512.969735343115\n"
          ]
        }
      ]
    },
    {
      "cell_type": "markdown",
      "source": [
        "Nessa etapa houve a escolhe e o treinamento inicial de 3 modelos:<br>\n",
        "- Regressao linear<br>\n",
        "- Arvores de decisao<br>\n",
        "- Florestas aleatorias<br><br>\n",
        "Foram utilizadas algumas metricas para avaliar esses modelos, que por sua vez foram: A raiz do erro medio quadratico, dando a estimativa de mais ou menos em quanto do valor ele esta errando; e a validacao cruzada que divide o conjunto de treinamento em um conjunto de treinamento menor e um conjunto de validação (em 10 conjuntos), e entao fornce um array com as 10 pontuacoes que ele fez em cada conjunto;O erro médio absoluto, MAE (da sigla em inglês Mean Absolute Error), é calculado a partir da média dos erros absolutos, ou seja, utilizamos o módulo de cada erro para evitar a subestimação, isso porque, o valor é menos afetado por pontos especialmente extremos (outliers).\n",
        "\n"
      ],
      "metadata": {
        "id": "hMkG-gWToYHC"
      }
    },
    {
      "cell_type": "markdown",
      "source": [
        "Os resultados obtidos foram:<br>\n",
        "- Regressao linear:<br>\n",
        "RMSE: 13753.21703039605<br>\n",
        "Erro absoluto medio (MAE): 6751.845001354269<br>\n",
        "Validacao cruzada:<br>\n",
        "Scores: [ 8961.17405919 14483.65791203 17666.46059366  7734.15628987\n",
        " 18521.74676324 13498.05673078 18325.77718196 12008.65027993\n",
        " 18937.54268475  7370.60930785]<br>\n",
        "Mean: 13750.783180325758<br>\n",
        "Standard deviation: 4352.131015663651<br><br>\n",
        "\n",
        "- Arvore de decisao:<br>\n",
        "RMSE: 536.3855863152029<br>\n",
        "Erro absoluto medio (MAE): 30.726256983240223<br>\n",
        "Validacao cruzada:<br>\n",
        "Scores: [14174.87798595 13703.56236582 24785.61130166 20855.87990165\n",
        " 19210.45569873  6956.06821815 12996.96382963 12929.00467232\n",
        " 28128.13680285 11578.02357735]<br>\n",
        "Mean: 16531.858435412698<br>\n",
        "Standard deviation: 6194.651257225492<br><br>\n",
        "\n",
        "- Floresta Aleatoria:<br>\n",
        "RMSE: 4655.2923908938155<br>\n",
        "Erro absoluto medio (MAE): 1526.0570916467145<br>\n",
        "Validacao Cruzada:<br>\n",
        "Scores: [ 3240.167287   10286.58827542 14879.06790203  8359.09164393\n",
        " 18117.04362624  7819.00379655 10065.50386225 11031.57111375\n",
        " 18250.95705613  8407.21359674]<br>\n",
        "Mean: 11045.620816005287<br>\n",
        "Standard deviation: 4512.969735343115"
      ],
      "metadata": {
        "id": "i0enNDdps_CR"
      }
    },
    {
      "cell_type": "markdown",
      "source": [
        "Tendo em vista esses resultados, o modelo que aparentou ser mais promissor, foi a Floresta Aleatoria"
      ],
      "metadata": {
        "id": "EbMCB4AaL52n"
      }
    },
    {
      "cell_type": "markdown",
      "source": [
        "**Avaliação do Modelo**"
      ],
      "metadata": {
        "id": "_yA-K1Rnotqy"
      }
    },
    {
      "cell_type": "markdown",
      "source": [
        "**Ajuste do Modelo**"
      ],
      "metadata": {
        "id": "w2UqJw3zovfA"
      }
    },
    {
      "cell_type": "markdown",
      "source": [
        "Pesquisa de grade (Grid Search) - Abordagem para poucas combinações de Hiperparâmetros"
      ],
      "metadata": {
        "id": "Pc9x1JberdRR"
      }
    },
    {
      "cell_type": "markdown",
      "source": [
        "Uma opção seria mexer nos hiperparâmetros manualmente, até encontrar uma ótima combinação de valores de hiperparâmetros. Isso seria um trabalho muito tedioso e você pode não ter tempo para explorar muitas combinações."
      ],
      "metadata": {
        "id": "Vff5nbEPrh4g"
      }
    },
    {
      "cell_type": "markdown",
      "source": [
        "Em vez disso, você deve obter o GridSearchCV do Scikit-Learn para pesquisar por você"
      ],
      "metadata": {
        "id": "-AGInMZzrjXg"
      }
    },
    {
      "cell_type": "markdown",
      "source": [
        "Dizer quais hiperparâmetros você deseja experimentar e quais valores experimentar, e ele usará validação cruzada para avaliar todas as combinações possíveis de valores de hiperparâmetros.\n",
        "Por exemplo, o código a seguir procura a melhor combinação de valores de hiperparâmetros para RandomForestRegressor:"
      ],
      "metadata": {
        "id": "ZJNvswJcrtPd"
      }
    },
    {
      "cell_type": "code",
      "source": [
        "# Pesquisando a melhor combinação de valores de hiperparâmetros\n",
        "#Codigo para encontrar hiperparamentro\n",
        "\n",
        "from sklearn.model_selection import GridSearchCV\n",
        "\n",
        "#criando uma variavel chamando param_drid, tentar achar o melhor valor para 2 paramentros n_estimators e\n",
        "#masx_features, paramestros do randomforestregressor\n",
        "param_grid = [\n",
        "    # tente 30 (5 × 6) combinações de hiperparâmetros\n",
        "    #tentar q n_estimatores seja 3 dps 9 dps 50..., max_features assume valor 2, dps 4 dps 6 dps 9..., trocando valor\n",
        "    {'n_estimators': [3, 9, 50, 80, 100], 'max_features': [2, 4, 6, 9, 10, 11]},\n",
        "    # em seguida, tente 12 (3 × 4) combinações com bootstrap definido como False\n",
        "    #bootstrap tem q mudar para falso pq por default eh verdadeiros\n",
        "    {'bootstrap': [False], 'n_estimators': [3, 10,30], 'max_features': [2, 3, 4,6]},\n",
        "  ]\n",
        "\n",
        "#algoritimo que estamos testando v\n",
        "forest_reg = RandomForestRegressor(random_state=42)\n",
        "\n",
        "#                                                                  as 5x6 de cima e dps as 3x4\n",
        "# treine com uma validacao cruzada em 10 pastas, que é um total de (30+12)*10=420 rodadas de treinamento\n",
        "grid_search = GridSearchCV(forest_reg, param_grid, cv=10,\n",
        "                            scoring='neg_mean_squared_error',\n",
        "                            return_train_score=True)\n",
        "grid_search.fit(tabela_transform, tabela_labels)\n",
        "\n"
      ],
      "metadata": {
        "colab": {
          "base_uri": "https://localhost:8080/"
        },
        "id": "TgF68zixrw-z",
        "outputId": "c35085ba-2065-4baf-f704-d6a91afd7084"
      },
      "execution_count": null,
      "outputs": [
        {
          "output_type": "execute_result",
          "data": {
            "text/plain": [
              "GridSearchCV(cv=10, estimator=RandomForestRegressor(random_state=42),\n",
              "             param_grid=[{'max_features': [2, 4, 6, 9, 10, 11],\n",
              "                          'n_estimators': [3, 9, 50, 80, 100]},\n",
              "                         {'bootstrap': [False], 'max_features': [2, 3, 4, 6],\n",
              "                          'n_estimators': [3, 10, 30]}],\n",
              "             return_train_score=True, scoring='neg_mean_squared_error')"
            ]
          },
          "metadata": {},
          "execution_count": 2519
        }
      ]
    },
    {
      "cell_type": "markdown",
      "source": [
        "A pesquisa em grade explorará 30+12 = 42 combinações de valores de hiperparâmetros RandomForestRegressor e treinará cada modelo 10 vezes (já que estamos usando validação cruzada de cinco vezes). Em outras palavras, ao todo, serão 42x10 = 420 rodadas de treinamento! Pode levar muito tempo, mas quando estiver pronto, você poderá obter a melhor combinação de parâmetros como este:"
      ],
      "metadata": {
        "id": "xV6D_gw9sJmY"
      }
    },
    {
      "cell_type": "code",
      "source": [
        "# A melhor combinação de hiperparâmetros encontrada\n",
        "#variavel que vai ter o resultado da melhor combinacao\n",
        "grid_search.best_params_"
      ],
      "metadata": {
        "colab": {
          "base_uri": "https://localhost:8080/"
        },
        "id": "3shjIYEZsN74",
        "outputId": "5de55dc1-38e2-4dfb-f4e9-f4cd37cb0887"
      },
      "execution_count": null,
      "outputs": [
        {
          "output_type": "execute_result",
          "data": {
            "text/plain": [
              "{'max_features': 9, 'n_estimators': 80}"
            ]
          },
          "metadata": {},
          "execution_count": 2520
        }
      ]
    },
    {
      "cell_type": "markdown",
      "source": [
        "Vejamos a pontuação de cada combinação de hiperparâmetros testada durante a pesquisa de grade:"
      ],
      "metadata": {
        "id": "Fsa9e3Eow3Hp"
      }
    },
    {
      "cell_type": "code",
      "source": [
        "# Pontuação de cada combinação de hiperparâmetros testada com grid_search\n",
        "#variavel recebe drid_search.. pega os resultados armazenados na variavel e coloca la\n",
        "cvres = grid_search.cv_results_\n",
        "#para media do score, parametros em zip,print raiz quadrada do valor medio(medida de qualidade)\n",
        "# ao lado do parametro, imprime o valor que e o erro da estimativa, quanto menor eh melhor\n",
        "for mean_score, params in zip(cvres[\"mean_test_score\"], cvres[\"params\"]):\n",
        "    print(np.sqrt(-mean_score), params)"
      ],
      "metadata": {
        "colab": {
          "base_uri": "https://localhost:8080/"
        },
        "id": "pZc6NRMiw0Z0",
        "outputId": "d6970bcb-8bd1-4693-e3c6-0f51922cbed7"
      },
      "execution_count": null,
      "outputs": [
        {
          "output_type": "stream",
          "name": "stdout",
          "text": [
            "21866.114028531847 {'max_features': 2, 'n_estimators': 3}\n",
            "18737.047825520323 {'max_features': 2, 'n_estimators': 9}\n",
            "16852.76737049427 {'max_features': 2, 'n_estimators': 50}\n",
            "16809.458122971675 {'max_features': 2, 'n_estimators': 80}\n",
            "16559.28355062533 {'max_features': 2, 'n_estimators': 100}\n",
            "19705.315248637653 {'max_features': 4, 'n_estimators': 3}\n",
            "16252.10438103467 {'max_features': 4, 'n_estimators': 9}\n",
            "14453.090591465494 {'max_features': 4, 'n_estimators': 50}\n",
            "14266.092392269838 {'max_features': 4, 'n_estimators': 80}\n",
            "14268.742770524457 {'max_features': 4, 'n_estimators': 100}\n",
            "17234.15230657334 {'max_features': 6, 'n_estimators': 3}\n",
            "13913.969321126257 {'max_features': 6, 'n_estimators': 9}\n",
            "13134.36336329577 {'max_features': 6, 'n_estimators': 50}\n",
            "13151.201840405425 {'max_features': 6, 'n_estimators': 80}\n",
            "13070.566844251332 {'max_features': 6, 'n_estimators': 100}\n",
            "13798.17048909827 {'max_features': 9, 'n_estimators': 3}\n",
            "12300.705104731149 {'max_features': 9, 'n_estimators': 9}\n",
            "11901.339166862686 {'max_features': 9, 'n_estimators': 50}\n",
            "11801.88037746513 {'max_features': 9, 'n_estimators': 80}\n",
            "11817.70573063444 {'max_features': 9, 'n_estimators': 100}\n",
            "14809.421704664455 {'max_features': 10, 'n_estimators': 3}\n",
            "12685.140602831008 {'max_features': 10, 'n_estimators': 9}\n",
            "12346.703960139617 {'max_features': 10, 'n_estimators': 50}\n",
            "12175.029827193477 {'max_features': 10, 'n_estimators': 80}\n",
            "12080.150417793624 {'max_features': 10, 'n_estimators': 100}\n",
            "14657.439539824725 {'max_features': 11, 'n_estimators': 3}\n",
            "12905.875787704337 {'max_features': 11, 'n_estimators': 9}\n",
            "12187.854477486691 {'max_features': 11, 'n_estimators': 50}\n",
            "12062.273480158688 {'max_features': 11, 'n_estimators': 80}\n",
            "12097.26380471107 {'max_features': 11, 'n_estimators': 100}\n",
            "20473.877579695683 {'bootstrap': False, 'max_features': 2, 'n_estimators': 3}\n",
            "17530.33907322559 {'bootstrap': False, 'max_features': 2, 'n_estimators': 10}\n",
            "16107.439283181075 {'bootstrap': False, 'max_features': 2, 'n_estimators': 30}\n",
            "19380.692013950033 {'bootstrap': False, 'max_features': 3, 'n_estimators': 3}\n",
            "15436.699454317077 {'bootstrap': False, 'max_features': 3, 'n_estimators': 10}\n",
            "14431.48422233702 {'bootstrap': False, 'max_features': 3, 'n_estimators': 30}\n",
            "18226.34083095595 {'bootstrap': False, 'max_features': 4, 'n_estimators': 3}\n",
            "15169.139151510853 {'bootstrap': False, 'max_features': 4, 'n_estimators': 10}\n",
            "13827.28317119902 {'bootstrap': False, 'max_features': 4, 'n_estimators': 30}\n",
            "15942.371142577418 {'bootstrap': False, 'max_features': 6, 'n_estimators': 3}\n",
            "13859.65457863712 {'bootstrap': False, 'max_features': 6, 'n_estimators': 10}\n",
            "13286.161737580871 {'bootstrap': False, 'max_features': 6, 'n_estimators': 30}\n"
          ]
        }
      ]
    },
    {
      "cell_type": "markdown",
      "source": [
        "Como 9 e 80 são os valores que tem a melhor pontuacao"
      ],
      "metadata": {
        "id": "ape2rKSXskMH"
      }
    },
    {
      "cell_type": "code",
      "source": [
        "# melhores hiperparâmetros encontrados para o estimador\n",
        "grid_search.best_estimator_"
      ],
      "metadata": {
        "colab": {
          "base_uri": "https://localhost:8080/"
        },
        "id": "4pcj4dQUsuHa",
        "outputId": "b175be7d-2a79-4bd7-d825-aa7f7604791d"
      },
      "execution_count": null,
      "outputs": [
        {
          "output_type": "execute_result",
          "data": {
            "text/plain": [
              "RandomForestRegressor(max_features=9, n_estimators=80, random_state=42)"
            ]
          },
          "metadata": {},
          "execution_count": 2522
        }
      ]
    },
    {
      "cell_type": "markdown",
      "source": [
        "**Pesquisa Aleatória (Randomized Search) - Abordagem para muitas combinações de Hiperparâmetros**"
      ],
      "metadata": {
        "id": "UQmTwT3FtB9s"
      }
    },
    {
      "cell_type": "markdown",
      "source": [
        "Quando o espaço de busca do Hiperparâmetro for grande é preferível utilizar o Randomizer Search em vez de Grid Search. Em vez de tentar todas as combinações possíveis, esta classe escolhe um valor aleatório para cada hiperparâmetro em cada interação e avalia um determinado número de combinações aleatórias."
      ],
      "metadata": {
        "id": "ErbaAEyStF-o"
      }
    },
    {
      "cell_type": "code",
      "source": [
        "# Pesquisando a melhor combinação de valores de hiperparâmetros\n",
        "from sklearn.model_selection import RandomizedSearchCV\n",
        "from scipy.stats import randint\n",
        "\n",
        "#cada vez que chamar a funcao ele vai gerar um valor randomico para o hiperparametro dentro da faixa escolhida\n",
        "param_distribs = {\n",
        "        'n_estimators': randint(low=1, high=200),\n",
        "        'max_features': randint(low=1, high=10),\n",
        "    }\n",
        "\n",
        "forest_reg = RandomForestRegressor(random_state=42)\n",
        "rnd_search = RandomizedSearchCV(forest_reg, param_distributions=param_distribs,\n",
        "                                  n_iter=15, cv=10, scoring='neg_mean_squared_error', random_state=42)\n",
        "                                  # ^ numero de vezes que vai ser combinado, quantidade de interacoes\n",
        "rnd_search.fit(tabela_transform, tabela_labels)"
      ],
      "metadata": {
        "colab": {
          "base_uri": "https://localhost:8080/"
        },
        "id": "i8ukQOqhtHlg",
        "outputId": "a2cc9b82-035f-436a-c12f-a0bcae4c3830"
      },
      "execution_count": null,
      "outputs": [
        {
          "output_type": "execute_result",
          "data": {
            "text/plain": [
              "RandomizedSearchCV(cv=10, estimator=RandomForestRegressor(random_state=42),\n",
              "                   n_iter=15,\n",
              "                   param_distributions={'max_features': <scipy.stats._distn_infrastructure.rv_frozen object at 0x7f7ce4f4fb90>,\n",
              "                                        'n_estimators': <scipy.stats._distn_infrastructure.rv_frozen object at 0x7f7ce135ef10>},\n",
              "                   random_state=42, scoring='neg_mean_squared_error')"
            ]
          },
          "metadata": {},
          "execution_count": 2523
        }
      ]
    },
    {
      "cell_type": "code",
      "source": [
        "# Pontuação de cada combinação de hiperparâmetros testada com RandomizedSearch\n",
        "cvres = rnd_search.cv_results_\n",
        "for mean_score, params in zip(cvres[\"mean_test_score\"], cvres[\"params\"]):\n",
        "    print(np.sqrt(-mean_score), params)"
      ],
      "metadata": {
        "colab": {
          "base_uri": "https://localhost:8080/"
        },
        "id": "SCAzTl0HtYpg",
        "outputId": "6f77cc18-722d-4a0e-c2d9-4bf32741d6de"
      },
      "execution_count": null,
      "outputs": [
        {
          "output_type": "stream",
          "name": "stdout",
          "text": [
            "12589.080090605672 {'max_features': 7, 'n_estimators': 180}\n",
            "12370.950509157507 {'max_features': 8, 'n_estimators': 189}\n",
            "13636.84707128063 {'max_features': 5, 'n_estimators': 103}\n",
            "15478.988308031221 {'max_features': 3, 'n_estimators': 75}\n",
            "12498.948365698234 {'max_features': 8, 'n_estimators': 117}\n",
            "14314.871375352366 {'max_features': 4, 'n_estimators': 104}\n",
            "12440.895038480021 {'max_features': 8, 'n_estimators': 131}\n",
            "12989.502543182216 {'max_features': 6, 'n_estimators': 53}\n",
            "16596.146931355153 {'max_features': 2, 'n_estimators': 88}\n",
            "13072.99430113399 {'max_features': 6, 'n_estimators': 130}\n",
            "13697.16549965626 {'max_features': 5, 'n_estimators': 161}\n",
            "13051.873218029652 {'max_features': 6, 'n_estimators': 89}\n",
            "18038.981617631303 {'max_features': 1, 'n_estimators': 59}\n",
            "15584.470432896258 {'max_features': 3, 'n_estimators': 108}\n",
            "12701.558944413006 {'max_features': 7, 'n_estimators': 64}\n"
          ]
        }
      ]
    },
    {
      "cell_type": "markdown",
      "source": [
        "Melhor Resultado: 12370.950509157507 {'max_features': 8, 'n_estimators': 189}\n"
      ],
      "metadata": {
        "id": "f08F4lNotkmu"
      }
    },
    {
      "cell_type": "markdown",
      "source": [
        "**Comparação dos métodos (modelo RandomForestRegressor):**"
      ],
      "metadata": {
        "id": "9e1MOU9CwZbv"
      }
    },
    {
      "cell_type": "markdown",
      "source": [
        "Melhor Resultado (Grid_Search): 11801.88037746513 {'max_features': 9, 'n_estimators': 80}<br>\n",
        "Melhor Resultado (RandomizedSearch)): 12370.950509157507 {'max_features': 8, 'n_estimators': 189}"
      ],
      "metadata": {
        "id": "qCb11TN8wbs7"
      }
    },
    {
      "cell_type": "markdown",
      "source": [
        "##Avaliando o sistema com o conjunto de teste"
      ],
      "metadata": {
        "id": "AefRlc4PcFtB"
      }
    },
    {
      "cell_type": "markdown",
      "source": [
        "Depois de ajustar seus modelos agora é a hora de avaliar o modelo final no conjunto de teste."
      ],
      "metadata": {
        "id": "vP8ti49ZcMiS"
      }
    },
    {
      "cell_type": "code",
      "source": [
        "#criando variavel do modelo final, recebendo os parametros do melhor valor do hiperparametros\n",
        "final_model = grid_search.best_estimator_\n",
        "\n",
        "# Separação dos atributos de entrada e de saída\n",
        "#conjunto de teste a a amostragem estratificada sem a coluna latest_price\n",
        "X_test = strat_test_set.drop(\"latest_price\", axis=1) # dados sem rótulos\n",
        "#y eh a base de dados de teste que foi estratificada com apenas a coluna alvo\n",
        "y_test = strat_test_set[\"latest_price\"].copy() # rótulos\n",
        "\n",
        "#preparando os dados do conjunto de teste, so fez isso no de treinamento\n",
        "X_test_prepared = num_pipeline.transform(X_test) # preparação dos dados\n",
        "#fazer a predicao, do finalmodel.predict, passando os dados prparados dps do pipeline, colocar em final prediction\n",
        "final_predictions = final_model.predict(X_test_prepared) # predição\n",
        "\n",
        "# avaliação com RMSE\n",
        "#passando rotulo e predicoes finais\n",
        "final_mse = mean_squared_error(y_test, final_predictions)\n",
        "#tirar a raiz quadrada\n",
        "final_rmse = np.sqrt(final_mse)\n"
      ],
      "metadata": {
        "id": "7OS84iQScIGK"
      },
      "execution_count": null,
      "outputs": []
    },
    {
      "cell_type": "code",
      "source": [
        "final_rmse"
      ],
      "metadata": {
        "colab": {
          "base_uri": "https://localhost:8080/"
        },
        "id": "K2w6KrEqxM30",
        "outputId": "3b1bb5e1-80ae-4e0a-a98d-3106293b56d1"
      },
      "execution_count": null,
      "outputs": [
        {
          "output_type": "execute_result",
          "data": {
            "text/plain": [
              "22908.15161109218"
            ]
          },
          "metadata": {},
          "execution_count": 2526
        }
      ]
    },
    {
      "cell_type": "code",
      "source": [
        "final_predictions[:5]"
      ],
      "metadata": {
        "colab": {
          "base_uri": "https://localhost:8080/"
        },
        "id": "SbgkhL7xzrBO",
        "outputId": "93a09941-f943-434d-c703-9f27b4b821eb"
      },
      "execution_count": null,
      "outputs": [
        {
          "output_type": "execute_result",
          "data": {
            "text/plain": [
              "array([ 48611.125     ,  39224.0375    ,  87368.9875    ,  68159.6125    ,\n",
              "       134359.96666667])"
            ]
          },
          "metadata": {},
          "execution_count": 2527
        }
      ]
    },
    {
      "cell_type": "code",
      "source": [
        "y_test[:5]"
      ],
      "metadata": {
        "colab": {
          "base_uri": "https://localhost:8080/"
        },
        "id": "m1Et5evSzt8m",
        "outputId": "35f01c53-6091-4eae-93b9-192e055f4d47"
      },
      "execution_count": null,
      "outputs": [
        {
          "output_type": "execute_result",
          "data": {
            "text/plain": [
              "752     48990\n",
              "708     36990\n",
              "811     79990\n",
              "499     71990\n",
              "634    139990\n",
              "Name: latest_price, dtype: int64"
            ]
          },
          "metadata": {},
          "execution_count": 2528
        }
      ]
    },
    {
      "cell_type": "markdown",
      "source": [
        "Nessa etapa o algoritimo realmente foi posto a prova, sendo testado com o conjunto real de testes, tendo assim seu rmse final, e tambem a comparacao de alguns valores preditos com os valores reais"
      ],
      "metadata": {
        "id": "WS8tnSqF1F_u"
      }
    }
  ]
}